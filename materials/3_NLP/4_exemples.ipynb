{
  "nbformat": 4,
  "nbformat_minor": 0,
  "metadata": {
    "colab": {
      "name": "4_exemples.ipynb",
      "provenance": [],
      "collapsed_sections": [],
      "authorship_tag": "ABX9TyOR1KZ3C31zrdFv3LHQ4rRe",
      "include_colab_link": true
    },
    "kernelspec": {
      "name": "python3",
      "display_name": "Python 3"
    },
    "language_info": {
      "name": "python"
    },
    "accelerator": "GPU",
    "widgets": {
      "application/vnd.jupyter.widget-state+json": {
        "91a5d5d4554647f38f844ce090af7372": {
          "model_module": "@jupyter-widgets/controls",
          "model_name": "HBoxModel",
          "model_module_version": "1.5.0",
          "state": {
            "_dom_classes": [],
            "_model_module": "@jupyter-widgets/controls",
            "_model_module_version": "1.5.0",
            "_model_name": "HBoxModel",
            "_view_count": null,
            "_view_module": "@jupyter-widgets/controls",
            "_view_module_version": "1.5.0",
            "_view_name": "HBoxView",
            "box_style": "",
            "children": [
              "IPY_MODEL_d63133328c5c4c7d99fc4ec976036b05",
              "IPY_MODEL_7e08a07825124b7287c5a692d7098ff4",
              "IPY_MODEL_4f3a106c20b6433c8c4752a627576e63"
            ],
            "layout": "IPY_MODEL_f3b01a86455142d9bb3b85705945bf8c"
          }
        },
        "d63133328c5c4c7d99fc4ec976036b05": {
          "model_module": "@jupyter-widgets/controls",
          "model_name": "HTMLModel",
          "model_module_version": "1.5.0",
          "state": {
            "_dom_classes": [],
            "_model_module": "@jupyter-widgets/controls",
            "_model_module_version": "1.5.0",
            "_model_name": "HTMLModel",
            "_view_count": null,
            "_view_module": "@jupyter-widgets/controls",
            "_view_module_version": "1.5.0",
            "_view_name": "HTMLView",
            "description": "",
            "description_tooltip": null,
            "layout": "IPY_MODEL_3551395bc9544516996603f78f851e25",
            "placeholder": "​",
            "style": "IPY_MODEL_23c8d2b45b09452d81a5dd495ecdc0d3",
            "value": "Downloading https://raw.githubusercontent.com/stanfordnlp/stanza-resources/main/resources_1.4.0.json: "
          }
        },
        "7e08a07825124b7287c5a692d7098ff4": {
          "model_module": "@jupyter-widgets/controls",
          "model_name": "FloatProgressModel",
          "model_module_version": "1.5.0",
          "state": {
            "_dom_classes": [],
            "_model_module": "@jupyter-widgets/controls",
            "_model_module_version": "1.5.0",
            "_model_name": "FloatProgressModel",
            "_view_count": null,
            "_view_module": "@jupyter-widgets/controls",
            "_view_module_version": "1.5.0",
            "_view_name": "ProgressView",
            "bar_style": "success",
            "description": "",
            "description_tooltip": null,
            "layout": "IPY_MODEL_2844e22348f74431a63ed1e5aef4c2b5",
            "max": 25983,
            "min": 0,
            "orientation": "horizontal",
            "style": "IPY_MODEL_88e6784f33eb4af49999044a147efa2d",
            "value": 25983
          }
        },
        "4f3a106c20b6433c8c4752a627576e63": {
          "model_module": "@jupyter-widgets/controls",
          "model_name": "HTMLModel",
          "model_module_version": "1.5.0",
          "state": {
            "_dom_classes": [],
            "_model_module": "@jupyter-widgets/controls",
            "_model_module_version": "1.5.0",
            "_model_name": "HTMLModel",
            "_view_count": null,
            "_view_module": "@jupyter-widgets/controls",
            "_view_module_version": "1.5.0",
            "_view_name": "HTMLView",
            "description": "",
            "description_tooltip": null,
            "layout": "IPY_MODEL_6101eb8c0e1b4b04a2d25121dd661229",
            "placeholder": "​",
            "style": "IPY_MODEL_d70cad1bdb4344148b9c2c0d3ad841e2",
            "value": " 154k/? [00:00&lt;00:00, 1.19MB/s]"
          }
        },
        "f3b01a86455142d9bb3b85705945bf8c": {
          "model_module": "@jupyter-widgets/base",
          "model_name": "LayoutModel",
          "model_module_version": "1.2.0",
          "state": {
            "_model_module": "@jupyter-widgets/base",
            "_model_module_version": "1.2.0",
            "_model_name": "LayoutModel",
            "_view_count": null,
            "_view_module": "@jupyter-widgets/base",
            "_view_module_version": "1.2.0",
            "_view_name": "LayoutView",
            "align_content": null,
            "align_items": null,
            "align_self": null,
            "border": null,
            "bottom": null,
            "display": null,
            "flex": null,
            "flex_flow": null,
            "grid_area": null,
            "grid_auto_columns": null,
            "grid_auto_flow": null,
            "grid_auto_rows": null,
            "grid_column": null,
            "grid_gap": null,
            "grid_row": null,
            "grid_template_areas": null,
            "grid_template_columns": null,
            "grid_template_rows": null,
            "height": null,
            "justify_content": null,
            "justify_items": null,
            "left": null,
            "margin": null,
            "max_height": null,
            "max_width": null,
            "min_height": null,
            "min_width": null,
            "object_fit": null,
            "object_position": null,
            "order": null,
            "overflow": null,
            "overflow_x": null,
            "overflow_y": null,
            "padding": null,
            "right": null,
            "top": null,
            "visibility": null,
            "width": null
          }
        },
        "3551395bc9544516996603f78f851e25": {
          "model_module": "@jupyter-widgets/base",
          "model_name": "LayoutModel",
          "model_module_version": "1.2.0",
          "state": {
            "_model_module": "@jupyter-widgets/base",
            "_model_module_version": "1.2.0",
            "_model_name": "LayoutModel",
            "_view_count": null,
            "_view_module": "@jupyter-widgets/base",
            "_view_module_version": "1.2.0",
            "_view_name": "LayoutView",
            "align_content": null,
            "align_items": null,
            "align_self": null,
            "border": null,
            "bottom": null,
            "display": null,
            "flex": null,
            "flex_flow": null,
            "grid_area": null,
            "grid_auto_columns": null,
            "grid_auto_flow": null,
            "grid_auto_rows": null,
            "grid_column": null,
            "grid_gap": null,
            "grid_row": null,
            "grid_template_areas": null,
            "grid_template_columns": null,
            "grid_template_rows": null,
            "height": null,
            "justify_content": null,
            "justify_items": null,
            "left": null,
            "margin": null,
            "max_height": null,
            "max_width": null,
            "min_height": null,
            "min_width": null,
            "object_fit": null,
            "object_position": null,
            "order": null,
            "overflow": null,
            "overflow_x": null,
            "overflow_y": null,
            "padding": null,
            "right": null,
            "top": null,
            "visibility": null,
            "width": null
          }
        },
        "23c8d2b45b09452d81a5dd495ecdc0d3": {
          "model_module": "@jupyter-widgets/controls",
          "model_name": "DescriptionStyleModel",
          "model_module_version": "1.5.0",
          "state": {
            "_model_module": "@jupyter-widgets/controls",
            "_model_module_version": "1.5.0",
            "_model_name": "DescriptionStyleModel",
            "_view_count": null,
            "_view_module": "@jupyter-widgets/base",
            "_view_module_version": "1.2.0",
            "_view_name": "StyleView",
            "description_width": ""
          }
        },
        "2844e22348f74431a63ed1e5aef4c2b5": {
          "model_module": "@jupyter-widgets/base",
          "model_name": "LayoutModel",
          "model_module_version": "1.2.0",
          "state": {
            "_model_module": "@jupyter-widgets/base",
            "_model_module_version": "1.2.0",
            "_model_name": "LayoutModel",
            "_view_count": null,
            "_view_module": "@jupyter-widgets/base",
            "_view_module_version": "1.2.0",
            "_view_name": "LayoutView",
            "align_content": null,
            "align_items": null,
            "align_self": null,
            "border": null,
            "bottom": null,
            "display": null,
            "flex": null,
            "flex_flow": null,
            "grid_area": null,
            "grid_auto_columns": null,
            "grid_auto_flow": null,
            "grid_auto_rows": null,
            "grid_column": null,
            "grid_gap": null,
            "grid_row": null,
            "grid_template_areas": null,
            "grid_template_columns": null,
            "grid_template_rows": null,
            "height": null,
            "justify_content": null,
            "justify_items": null,
            "left": null,
            "margin": null,
            "max_height": null,
            "max_width": null,
            "min_height": null,
            "min_width": null,
            "object_fit": null,
            "object_position": null,
            "order": null,
            "overflow": null,
            "overflow_x": null,
            "overflow_y": null,
            "padding": null,
            "right": null,
            "top": null,
            "visibility": null,
            "width": null
          }
        },
        "88e6784f33eb4af49999044a147efa2d": {
          "model_module": "@jupyter-widgets/controls",
          "model_name": "ProgressStyleModel",
          "model_module_version": "1.5.0",
          "state": {
            "_model_module": "@jupyter-widgets/controls",
            "_model_module_version": "1.5.0",
            "_model_name": "ProgressStyleModel",
            "_view_count": null,
            "_view_module": "@jupyter-widgets/base",
            "_view_module_version": "1.2.0",
            "_view_name": "StyleView",
            "bar_color": null,
            "description_width": ""
          }
        },
        "6101eb8c0e1b4b04a2d25121dd661229": {
          "model_module": "@jupyter-widgets/base",
          "model_name": "LayoutModel",
          "model_module_version": "1.2.0",
          "state": {
            "_model_module": "@jupyter-widgets/base",
            "_model_module_version": "1.2.0",
            "_model_name": "LayoutModel",
            "_view_count": null,
            "_view_module": "@jupyter-widgets/base",
            "_view_module_version": "1.2.0",
            "_view_name": "LayoutView",
            "align_content": null,
            "align_items": null,
            "align_self": null,
            "border": null,
            "bottom": null,
            "display": null,
            "flex": null,
            "flex_flow": null,
            "grid_area": null,
            "grid_auto_columns": null,
            "grid_auto_flow": null,
            "grid_auto_rows": null,
            "grid_column": null,
            "grid_gap": null,
            "grid_row": null,
            "grid_template_areas": null,
            "grid_template_columns": null,
            "grid_template_rows": null,
            "height": null,
            "justify_content": null,
            "justify_items": null,
            "left": null,
            "margin": null,
            "max_height": null,
            "max_width": null,
            "min_height": null,
            "min_width": null,
            "object_fit": null,
            "object_position": null,
            "order": null,
            "overflow": null,
            "overflow_x": null,
            "overflow_y": null,
            "padding": null,
            "right": null,
            "top": null,
            "visibility": null,
            "width": null
          }
        },
        "d70cad1bdb4344148b9c2c0d3ad841e2": {
          "model_module": "@jupyter-widgets/controls",
          "model_name": "DescriptionStyleModel",
          "model_module_version": "1.5.0",
          "state": {
            "_model_module": "@jupyter-widgets/controls",
            "_model_module_version": "1.5.0",
            "_model_name": "DescriptionStyleModel",
            "_view_count": null,
            "_view_module": "@jupyter-widgets/base",
            "_view_module_version": "1.2.0",
            "_view_name": "StyleView",
            "description_width": ""
          }
        },
        "6759ee6a2090449a9e5681dd2923dc95": {
          "model_module": "@jupyter-widgets/controls",
          "model_name": "HBoxModel",
          "model_module_version": "1.5.0",
          "state": {
            "_dom_classes": [],
            "_model_module": "@jupyter-widgets/controls",
            "_model_module_version": "1.5.0",
            "_model_name": "HBoxModel",
            "_view_count": null,
            "_view_module": "@jupyter-widgets/controls",
            "_view_module_version": "1.5.0",
            "_view_name": "HBoxView",
            "box_style": "",
            "children": [
              "IPY_MODEL_e3a5c654bfdb481e980e7a03e0e37fee",
              "IPY_MODEL_fcd47bec4f5b42abb20638fe621acece",
              "IPY_MODEL_e88b423e4a2d4a5397ab41d772ba94c5"
            ],
            "layout": "IPY_MODEL_c6d5c69744524bcc9414a0a896e88730"
          }
        },
        "e3a5c654bfdb481e980e7a03e0e37fee": {
          "model_module": "@jupyter-widgets/controls",
          "model_name": "HTMLModel",
          "model_module_version": "1.5.0",
          "state": {
            "_dom_classes": [],
            "_model_module": "@jupyter-widgets/controls",
            "_model_module_version": "1.5.0",
            "_model_name": "HTMLModel",
            "_view_count": null,
            "_view_module": "@jupyter-widgets/controls",
            "_view_module_version": "1.5.0",
            "_view_name": "HTMLView",
            "description": "",
            "description_tooltip": null,
            "layout": "IPY_MODEL_bc71e5fbb3ce405ab16684a7f4a54210",
            "placeholder": "​",
            "style": "IPY_MODEL_b52efd639bf9451cbbabe3f7a266241b",
            "value": "Downloading https://huggingface.co/stanfordnlp/stanza-fr/resolve/v1.4.0/models/default.zip: 100%"
          }
        },
        "fcd47bec4f5b42abb20638fe621acece": {
          "model_module": "@jupyter-widgets/controls",
          "model_name": "FloatProgressModel",
          "model_module_version": "1.5.0",
          "state": {
            "_dom_classes": [],
            "_model_module": "@jupyter-widgets/controls",
            "_model_module_version": "1.5.0",
            "_model_name": "FloatProgressModel",
            "_view_count": null,
            "_view_module": "@jupyter-widgets/controls",
            "_view_module_version": "1.5.0",
            "_view_name": "ProgressView",
            "bar_style": "success",
            "description": "",
            "description_tooltip": null,
            "layout": "IPY_MODEL_42a2d4c457234461a180939a41b94e17",
            "max": 571731581,
            "min": 0,
            "orientation": "horizontal",
            "style": "IPY_MODEL_0958695fdf9b493cafeb7d9e612ca3ea",
            "value": 571731581
          }
        },
        "e88b423e4a2d4a5397ab41d772ba94c5": {
          "model_module": "@jupyter-widgets/controls",
          "model_name": "HTMLModel",
          "model_module_version": "1.5.0",
          "state": {
            "_dom_classes": [],
            "_model_module": "@jupyter-widgets/controls",
            "_model_module_version": "1.5.0",
            "_model_name": "HTMLModel",
            "_view_count": null,
            "_view_module": "@jupyter-widgets/controls",
            "_view_module_version": "1.5.0",
            "_view_name": "HTMLView",
            "description": "",
            "description_tooltip": null,
            "layout": "IPY_MODEL_e8837d244b1148a5ac2d9c2a5d9576ab",
            "placeholder": "​",
            "style": "IPY_MODEL_11c83f9ac31741d6b06c48dadb163f31",
            "value": " 572M/572M [00:06&lt;00:00, 103MB/s]"
          }
        },
        "c6d5c69744524bcc9414a0a896e88730": {
          "model_module": "@jupyter-widgets/base",
          "model_name": "LayoutModel",
          "model_module_version": "1.2.0",
          "state": {
            "_model_module": "@jupyter-widgets/base",
            "_model_module_version": "1.2.0",
            "_model_name": "LayoutModel",
            "_view_count": null,
            "_view_module": "@jupyter-widgets/base",
            "_view_module_version": "1.2.0",
            "_view_name": "LayoutView",
            "align_content": null,
            "align_items": null,
            "align_self": null,
            "border": null,
            "bottom": null,
            "display": null,
            "flex": null,
            "flex_flow": null,
            "grid_area": null,
            "grid_auto_columns": null,
            "grid_auto_flow": null,
            "grid_auto_rows": null,
            "grid_column": null,
            "grid_gap": null,
            "grid_row": null,
            "grid_template_areas": null,
            "grid_template_columns": null,
            "grid_template_rows": null,
            "height": null,
            "justify_content": null,
            "justify_items": null,
            "left": null,
            "margin": null,
            "max_height": null,
            "max_width": null,
            "min_height": null,
            "min_width": null,
            "object_fit": null,
            "object_position": null,
            "order": null,
            "overflow": null,
            "overflow_x": null,
            "overflow_y": null,
            "padding": null,
            "right": null,
            "top": null,
            "visibility": null,
            "width": null
          }
        },
        "bc71e5fbb3ce405ab16684a7f4a54210": {
          "model_module": "@jupyter-widgets/base",
          "model_name": "LayoutModel",
          "model_module_version": "1.2.0",
          "state": {
            "_model_module": "@jupyter-widgets/base",
            "_model_module_version": "1.2.0",
            "_model_name": "LayoutModel",
            "_view_count": null,
            "_view_module": "@jupyter-widgets/base",
            "_view_module_version": "1.2.0",
            "_view_name": "LayoutView",
            "align_content": null,
            "align_items": null,
            "align_self": null,
            "border": null,
            "bottom": null,
            "display": null,
            "flex": null,
            "flex_flow": null,
            "grid_area": null,
            "grid_auto_columns": null,
            "grid_auto_flow": null,
            "grid_auto_rows": null,
            "grid_column": null,
            "grid_gap": null,
            "grid_row": null,
            "grid_template_areas": null,
            "grid_template_columns": null,
            "grid_template_rows": null,
            "height": null,
            "justify_content": null,
            "justify_items": null,
            "left": null,
            "margin": null,
            "max_height": null,
            "max_width": null,
            "min_height": null,
            "min_width": null,
            "object_fit": null,
            "object_position": null,
            "order": null,
            "overflow": null,
            "overflow_x": null,
            "overflow_y": null,
            "padding": null,
            "right": null,
            "top": null,
            "visibility": null,
            "width": null
          }
        },
        "b52efd639bf9451cbbabe3f7a266241b": {
          "model_module": "@jupyter-widgets/controls",
          "model_name": "DescriptionStyleModel",
          "model_module_version": "1.5.0",
          "state": {
            "_model_module": "@jupyter-widgets/controls",
            "_model_module_version": "1.5.0",
            "_model_name": "DescriptionStyleModel",
            "_view_count": null,
            "_view_module": "@jupyter-widgets/base",
            "_view_module_version": "1.2.0",
            "_view_name": "StyleView",
            "description_width": ""
          }
        },
        "42a2d4c457234461a180939a41b94e17": {
          "model_module": "@jupyter-widgets/base",
          "model_name": "LayoutModel",
          "model_module_version": "1.2.0",
          "state": {
            "_model_module": "@jupyter-widgets/base",
            "_model_module_version": "1.2.0",
            "_model_name": "LayoutModel",
            "_view_count": null,
            "_view_module": "@jupyter-widgets/base",
            "_view_module_version": "1.2.0",
            "_view_name": "LayoutView",
            "align_content": null,
            "align_items": null,
            "align_self": null,
            "border": null,
            "bottom": null,
            "display": null,
            "flex": null,
            "flex_flow": null,
            "grid_area": null,
            "grid_auto_columns": null,
            "grid_auto_flow": null,
            "grid_auto_rows": null,
            "grid_column": null,
            "grid_gap": null,
            "grid_row": null,
            "grid_template_areas": null,
            "grid_template_columns": null,
            "grid_template_rows": null,
            "height": null,
            "justify_content": null,
            "justify_items": null,
            "left": null,
            "margin": null,
            "max_height": null,
            "max_width": null,
            "min_height": null,
            "min_width": null,
            "object_fit": null,
            "object_position": null,
            "order": null,
            "overflow": null,
            "overflow_x": null,
            "overflow_y": null,
            "padding": null,
            "right": null,
            "top": null,
            "visibility": null,
            "width": null
          }
        },
        "0958695fdf9b493cafeb7d9e612ca3ea": {
          "model_module": "@jupyter-widgets/controls",
          "model_name": "ProgressStyleModel",
          "model_module_version": "1.5.0",
          "state": {
            "_model_module": "@jupyter-widgets/controls",
            "_model_module_version": "1.5.0",
            "_model_name": "ProgressStyleModel",
            "_view_count": null,
            "_view_module": "@jupyter-widgets/base",
            "_view_module_version": "1.2.0",
            "_view_name": "StyleView",
            "bar_color": null,
            "description_width": ""
          }
        },
        "e8837d244b1148a5ac2d9c2a5d9576ab": {
          "model_module": "@jupyter-widgets/base",
          "model_name": "LayoutModel",
          "model_module_version": "1.2.0",
          "state": {
            "_model_module": "@jupyter-widgets/base",
            "_model_module_version": "1.2.0",
            "_model_name": "LayoutModel",
            "_view_count": null,
            "_view_module": "@jupyter-widgets/base",
            "_view_module_version": "1.2.0",
            "_view_name": "LayoutView",
            "align_content": null,
            "align_items": null,
            "align_self": null,
            "border": null,
            "bottom": null,
            "display": null,
            "flex": null,
            "flex_flow": null,
            "grid_area": null,
            "grid_auto_columns": null,
            "grid_auto_flow": null,
            "grid_auto_rows": null,
            "grid_column": null,
            "grid_gap": null,
            "grid_row": null,
            "grid_template_areas": null,
            "grid_template_columns": null,
            "grid_template_rows": null,
            "height": null,
            "justify_content": null,
            "justify_items": null,
            "left": null,
            "margin": null,
            "max_height": null,
            "max_width": null,
            "min_height": null,
            "min_width": null,
            "object_fit": null,
            "object_position": null,
            "order": null,
            "overflow": null,
            "overflow_x": null,
            "overflow_y": null,
            "padding": null,
            "right": null,
            "top": null,
            "visibility": null,
            "width": null
          }
        },
        "11c83f9ac31741d6b06c48dadb163f31": {
          "model_module": "@jupyter-widgets/controls",
          "model_name": "DescriptionStyleModel",
          "model_module_version": "1.5.0",
          "state": {
            "_model_module": "@jupyter-widgets/controls",
            "_model_module_version": "1.5.0",
            "_model_name": "DescriptionStyleModel",
            "_view_count": null,
            "_view_module": "@jupyter-widgets/base",
            "_view_module_version": "1.2.0",
            "_view_name": "StyleView",
            "description_width": ""
          }
        },
        "9d0d907c07e54995812d8dff7ddd0b0f": {
          "model_module": "@jupyter-widgets/controls",
          "model_name": "HBoxModel",
          "model_module_version": "1.5.0",
          "state": {
            "_dom_classes": [],
            "_model_module": "@jupyter-widgets/controls",
            "_model_module_version": "1.5.0",
            "_model_name": "HBoxModel",
            "_view_count": null,
            "_view_module": "@jupyter-widgets/controls",
            "_view_module_version": "1.5.0",
            "_view_name": "HBoxView",
            "box_style": "",
            "children": [
              "IPY_MODEL_8db5a096790c4654b276d377c4f69501",
              "IPY_MODEL_59ce47e0956348c9b5b09af8500a5420",
              "IPY_MODEL_58066743657d4d3788d744126db89fb8"
            ],
            "layout": "IPY_MODEL_372b7d9b2bb5437eaf531e6d60115d70"
          }
        },
        "8db5a096790c4654b276d377c4f69501": {
          "model_module": "@jupyter-widgets/controls",
          "model_name": "HTMLModel",
          "model_module_version": "1.5.0",
          "state": {
            "_dom_classes": [],
            "_model_module": "@jupyter-widgets/controls",
            "_model_module_version": "1.5.0",
            "_model_name": "HTMLModel",
            "_view_count": null,
            "_view_module": "@jupyter-widgets/controls",
            "_view_module_version": "1.5.0",
            "_view_name": "HTMLView",
            "description": "",
            "description_tooltip": null,
            "layout": "IPY_MODEL_9cbe3b4cf72b439493005ef023a83b9a",
            "placeholder": "​",
            "style": "IPY_MODEL_86a335b026f5428b919fbb5530085a40",
            "value": "Downloading https://raw.githubusercontent.com/stanfordnlp/stanza-resources/main/resources_1.4.0.json: "
          }
        },
        "59ce47e0956348c9b5b09af8500a5420": {
          "model_module": "@jupyter-widgets/controls",
          "model_name": "FloatProgressModel",
          "model_module_version": "1.5.0",
          "state": {
            "_dom_classes": [],
            "_model_module": "@jupyter-widgets/controls",
            "_model_module_version": "1.5.0",
            "_model_name": "FloatProgressModel",
            "_view_count": null,
            "_view_module": "@jupyter-widgets/controls",
            "_view_module_version": "1.5.0",
            "_view_name": "ProgressView",
            "bar_style": "success",
            "description": "",
            "description_tooltip": null,
            "layout": "IPY_MODEL_2edcac7c1c9e4d5d87643a3f5e8ae5ff",
            "max": 25983,
            "min": 0,
            "orientation": "horizontal",
            "style": "IPY_MODEL_43c9315ce4bb4275a471a55308fdfe79",
            "value": 25983
          }
        },
        "58066743657d4d3788d744126db89fb8": {
          "model_module": "@jupyter-widgets/controls",
          "model_name": "HTMLModel",
          "model_module_version": "1.5.0",
          "state": {
            "_dom_classes": [],
            "_model_module": "@jupyter-widgets/controls",
            "_model_module_version": "1.5.0",
            "_model_name": "HTMLModel",
            "_view_count": null,
            "_view_module": "@jupyter-widgets/controls",
            "_view_module_version": "1.5.0",
            "_view_name": "HTMLView",
            "description": "",
            "description_tooltip": null,
            "layout": "IPY_MODEL_df0097d1b2bf4816882bda9445875fcd",
            "placeholder": "​",
            "style": "IPY_MODEL_02ca20fac57d4cf9940cf3e2ad97b7ee",
            "value": " 154k/? [00:00&lt;00:00, 4.97MB/s]"
          }
        },
        "372b7d9b2bb5437eaf531e6d60115d70": {
          "model_module": "@jupyter-widgets/base",
          "model_name": "LayoutModel",
          "model_module_version": "1.2.0",
          "state": {
            "_model_module": "@jupyter-widgets/base",
            "_model_module_version": "1.2.0",
            "_model_name": "LayoutModel",
            "_view_count": null,
            "_view_module": "@jupyter-widgets/base",
            "_view_module_version": "1.2.0",
            "_view_name": "LayoutView",
            "align_content": null,
            "align_items": null,
            "align_self": null,
            "border": null,
            "bottom": null,
            "display": null,
            "flex": null,
            "flex_flow": null,
            "grid_area": null,
            "grid_auto_columns": null,
            "grid_auto_flow": null,
            "grid_auto_rows": null,
            "grid_column": null,
            "grid_gap": null,
            "grid_row": null,
            "grid_template_areas": null,
            "grid_template_columns": null,
            "grid_template_rows": null,
            "height": null,
            "justify_content": null,
            "justify_items": null,
            "left": null,
            "margin": null,
            "max_height": null,
            "max_width": null,
            "min_height": null,
            "min_width": null,
            "object_fit": null,
            "object_position": null,
            "order": null,
            "overflow": null,
            "overflow_x": null,
            "overflow_y": null,
            "padding": null,
            "right": null,
            "top": null,
            "visibility": null,
            "width": null
          }
        },
        "9cbe3b4cf72b439493005ef023a83b9a": {
          "model_module": "@jupyter-widgets/base",
          "model_name": "LayoutModel",
          "model_module_version": "1.2.0",
          "state": {
            "_model_module": "@jupyter-widgets/base",
            "_model_module_version": "1.2.0",
            "_model_name": "LayoutModel",
            "_view_count": null,
            "_view_module": "@jupyter-widgets/base",
            "_view_module_version": "1.2.0",
            "_view_name": "LayoutView",
            "align_content": null,
            "align_items": null,
            "align_self": null,
            "border": null,
            "bottom": null,
            "display": null,
            "flex": null,
            "flex_flow": null,
            "grid_area": null,
            "grid_auto_columns": null,
            "grid_auto_flow": null,
            "grid_auto_rows": null,
            "grid_column": null,
            "grid_gap": null,
            "grid_row": null,
            "grid_template_areas": null,
            "grid_template_columns": null,
            "grid_template_rows": null,
            "height": null,
            "justify_content": null,
            "justify_items": null,
            "left": null,
            "margin": null,
            "max_height": null,
            "max_width": null,
            "min_height": null,
            "min_width": null,
            "object_fit": null,
            "object_position": null,
            "order": null,
            "overflow": null,
            "overflow_x": null,
            "overflow_y": null,
            "padding": null,
            "right": null,
            "top": null,
            "visibility": null,
            "width": null
          }
        },
        "86a335b026f5428b919fbb5530085a40": {
          "model_module": "@jupyter-widgets/controls",
          "model_name": "DescriptionStyleModel",
          "model_module_version": "1.5.0",
          "state": {
            "_model_module": "@jupyter-widgets/controls",
            "_model_module_version": "1.5.0",
            "_model_name": "DescriptionStyleModel",
            "_view_count": null,
            "_view_module": "@jupyter-widgets/base",
            "_view_module_version": "1.2.0",
            "_view_name": "StyleView",
            "description_width": ""
          }
        },
        "2edcac7c1c9e4d5d87643a3f5e8ae5ff": {
          "model_module": "@jupyter-widgets/base",
          "model_name": "LayoutModel",
          "model_module_version": "1.2.0",
          "state": {
            "_model_module": "@jupyter-widgets/base",
            "_model_module_version": "1.2.0",
            "_model_name": "LayoutModel",
            "_view_count": null,
            "_view_module": "@jupyter-widgets/base",
            "_view_module_version": "1.2.0",
            "_view_name": "LayoutView",
            "align_content": null,
            "align_items": null,
            "align_self": null,
            "border": null,
            "bottom": null,
            "display": null,
            "flex": null,
            "flex_flow": null,
            "grid_area": null,
            "grid_auto_columns": null,
            "grid_auto_flow": null,
            "grid_auto_rows": null,
            "grid_column": null,
            "grid_gap": null,
            "grid_row": null,
            "grid_template_areas": null,
            "grid_template_columns": null,
            "grid_template_rows": null,
            "height": null,
            "justify_content": null,
            "justify_items": null,
            "left": null,
            "margin": null,
            "max_height": null,
            "max_width": null,
            "min_height": null,
            "min_width": null,
            "object_fit": null,
            "object_position": null,
            "order": null,
            "overflow": null,
            "overflow_x": null,
            "overflow_y": null,
            "padding": null,
            "right": null,
            "top": null,
            "visibility": null,
            "width": null
          }
        },
        "43c9315ce4bb4275a471a55308fdfe79": {
          "model_module": "@jupyter-widgets/controls",
          "model_name": "ProgressStyleModel",
          "model_module_version": "1.5.0",
          "state": {
            "_model_module": "@jupyter-widgets/controls",
            "_model_module_version": "1.5.0",
            "_model_name": "ProgressStyleModel",
            "_view_count": null,
            "_view_module": "@jupyter-widgets/base",
            "_view_module_version": "1.2.0",
            "_view_name": "StyleView",
            "bar_color": null,
            "description_width": ""
          }
        },
        "df0097d1b2bf4816882bda9445875fcd": {
          "model_module": "@jupyter-widgets/base",
          "model_name": "LayoutModel",
          "model_module_version": "1.2.0",
          "state": {
            "_model_module": "@jupyter-widgets/base",
            "_model_module_version": "1.2.0",
            "_model_name": "LayoutModel",
            "_view_count": null,
            "_view_module": "@jupyter-widgets/base",
            "_view_module_version": "1.2.0",
            "_view_name": "LayoutView",
            "align_content": null,
            "align_items": null,
            "align_self": null,
            "border": null,
            "bottom": null,
            "display": null,
            "flex": null,
            "flex_flow": null,
            "grid_area": null,
            "grid_auto_columns": null,
            "grid_auto_flow": null,
            "grid_auto_rows": null,
            "grid_column": null,
            "grid_gap": null,
            "grid_row": null,
            "grid_template_areas": null,
            "grid_template_columns": null,
            "grid_template_rows": null,
            "height": null,
            "justify_content": null,
            "justify_items": null,
            "left": null,
            "margin": null,
            "max_height": null,
            "max_width": null,
            "min_height": null,
            "min_width": null,
            "object_fit": null,
            "object_position": null,
            "order": null,
            "overflow": null,
            "overflow_x": null,
            "overflow_y": null,
            "padding": null,
            "right": null,
            "top": null,
            "visibility": null,
            "width": null
          }
        },
        "02ca20fac57d4cf9940cf3e2ad97b7ee": {
          "model_module": "@jupyter-widgets/controls",
          "model_name": "DescriptionStyleModel",
          "model_module_version": "1.5.0",
          "state": {
            "_model_module": "@jupyter-widgets/controls",
            "_model_module_version": "1.5.0",
            "_model_name": "DescriptionStyleModel",
            "_view_count": null,
            "_view_module": "@jupyter-widgets/base",
            "_view_module_version": "1.2.0",
            "_view_name": "StyleView",
            "description_width": ""
          }
        }
      }
    }
  },
  "cells": [
    {
      "cell_type": "markdown",
      "metadata": {
        "id": "view-in-github",
        "colab_type": "text"
      },
      "source": [
        "<a href=\"https://colab.research.google.com/github/OdysseusPolymetis/colabs_for_nlp/blob/main/4_exemples.ipynb\" target=\"_parent\"><img src=\"https://colab.research.google.com/assets/colab-badge.svg\" alt=\"Open In Colab\"/></a>"
      ]
    },
    {
      "cell_type": "code",
      "source": [
        "from google.colab import drive\n",
        "drive.mount('/content/drive')"
      ],
      "metadata": {
        "colab": {
          "base_uri": "https://localhost:8080/"
        },
        "id": "1q7JteY7lOlv",
        "outputId": "3033566d-1f94-41f9-8e41-49121c618b54"
      },
      "execution_count": null,
      "outputs": [
        {
          "output_type": "stream",
          "name": "stdout",
          "text": [
            "Mounted at /content/drive\n"
          ]
        }
      ]
    },
    {
      "cell_type": "code",
      "source": [
        "!pip install stanza==1.4.0"
      ],
      "metadata": {
        "colab": {
          "base_uri": "https://localhost:8080/"
        },
        "id": "ciPcNMizlRjg",
        "outputId": "a5228b39-7701-453c-eb96-7b89d655825e"
      },
      "execution_count": null,
      "outputs": [
        {
          "output_type": "stream",
          "name": "stdout",
          "text": [
            "Collecting stanza==1.4.0\n",
            "  Downloading stanza-1.4.0-py3-none-any.whl (574 kB)\n",
            "\u001b[?25l\r\u001b[K     |▋                               | 10 kB 32.4 MB/s eta 0:00:01\r\u001b[K     |█▏                              | 20 kB 35.7 MB/s eta 0:00:01\r\u001b[K     |█▊                              | 30 kB 19.7 MB/s eta 0:00:01\r\u001b[K     |██▎                             | 40 kB 8.7 MB/s eta 0:00:01\r\u001b[K     |██▉                             | 51 kB 8.5 MB/s eta 0:00:01\r\u001b[K     |███▍                            | 61 kB 10.0 MB/s eta 0:00:01\r\u001b[K     |████                            | 71 kB 9.0 MB/s eta 0:00:01\r\u001b[K     |████▋                           | 81 kB 9.7 MB/s eta 0:00:01\r\u001b[K     |█████▏                          | 92 kB 10.8 MB/s eta 0:00:01\r\u001b[K     |█████▊                          | 102 kB 9.8 MB/s eta 0:00:01\r\u001b[K     |██████▎                         | 112 kB 9.8 MB/s eta 0:00:01\r\u001b[K     |██████▉                         | 122 kB 9.8 MB/s eta 0:00:01\r\u001b[K     |███████▍                        | 133 kB 9.8 MB/s eta 0:00:01\r\u001b[K     |████████                        | 143 kB 9.8 MB/s eta 0:00:01\r\u001b[K     |████████▌                       | 153 kB 9.8 MB/s eta 0:00:01\r\u001b[K     |█████████▏                      | 163 kB 9.8 MB/s eta 0:00:01\r\u001b[K     |█████████▊                      | 174 kB 9.8 MB/s eta 0:00:01\r\u001b[K     |██████████▎                     | 184 kB 9.8 MB/s eta 0:00:01\r\u001b[K     |██████████▉                     | 194 kB 9.8 MB/s eta 0:00:01\r\u001b[K     |███████████▍                    | 204 kB 9.8 MB/s eta 0:00:01\r\u001b[K     |████████████                    | 215 kB 9.8 MB/s eta 0:00:01\r\u001b[K     |████████████▌                   | 225 kB 9.8 MB/s eta 0:00:01\r\u001b[K     |█████████████▏                  | 235 kB 9.8 MB/s eta 0:00:01\r\u001b[K     |█████████████▊                  | 245 kB 9.8 MB/s eta 0:00:01\r\u001b[K     |██████████████▎                 | 256 kB 9.8 MB/s eta 0:00:01\r\u001b[K     |██████████████▉                 | 266 kB 9.8 MB/s eta 0:00:01\r\u001b[K     |███████████████▍                | 276 kB 9.8 MB/s eta 0:00:01\r\u001b[K     |████████████████                | 286 kB 9.8 MB/s eta 0:00:01\r\u001b[K     |████████████████▌               | 296 kB 9.8 MB/s eta 0:00:01\r\u001b[K     |█████████████████               | 307 kB 9.8 MB/s eta 0:00:01\r\u001b[K     |█████████████████▊              | 317 kB 9.8 MB/s eta 0:00:01\r\u001b[K     |██████████████████▎             | 327 kB 9.8 MB/s eta 0:00:01\r\u001b[K     |██████████████████▉             | 337 kB 9.8 MB/s eta 0:00:01\r\u001b[K     |███████████████████▍            | 348 kB 9.8 MB/s eta 0:00:01\r\u001b[K     |████████████████████            | 358 kB 9.8 MB/s eta 0:00:01\r\u001b[K     |████████████████████▌           | 368 kB 9.8 MB/s eta 0:00:01\r\u001b[K     |█████████████████████           | 378 kB 9.8 MB/s eta 0:00:01\r\u001b[K     |█████████████████████▊          | 389 kB 9.8 MB/s eta 0:00:01\r\u001b[K     |██████████████████████▎         | 399 kB 9.8 MB/s eta 0:00:01\r\u001b[K     |██████████████████████▉         | 409 kB 9.8 MB/s eta 0:00:01\r\u001b[K     |███████████████████████▍        | 419 kB 9.8 MB/s eta 0:00:01\r\u001b[K     |████████████████████████        | 430 kB 9.8 MB/s eta 0:00:01\r\u001b[K     |████████████████████████▌       | 440 kB 9.8 MB/s eta 0:00:01\r\u001b[K     |█████████████████████████       | 450 kB 9.8 MB/s eta 0:00:01\r\u001b[K     |█████████████████████████▋      | 460 kB 9.8 MB/s eta 0:00:01\r\u001b[K     |██████████████████████████▎     | 471 kB 9.8 MB/s eta 0:00:01\r\u001b[K     |██████████████████████████▉     | 481 kB 9.8 MB/s eta 0:00:01\r\u001b[K     |███████████████████████████▍    | 491 kB 9.8 MB/s eta 0:00:01\r\u001b[K     |████████████████████████████    | 501 kB 9.8 MB/s eta 0:00:01\r\u001b[K     |████████████████████████████▌   | 512 kB 9.8 MB/s eta 0:00:01\r\u001b[K     |█████████████████████████████   | 522 kB 9.8 MB/s eta 0:00:01\r\u001b[K     |█████████████████████████████▋  | 532 kB 9.8 MB/s eta 0:00:01\r\u001b[K     |██████████████████████████████▏ | 542 kB 9.8 MB/s eta 0:00:01\r\u001b[K     |██████████████████████████████▉ | 552 kB 9.8 MB/s eta 0:00:01\r\u001b[K     |███████████████████████████████▍| 563 kB 9.8 MB/s eta 0:00:01\r\u001b[K     |████████████████████████████████| 573 kB 9.8 MB/s eta 0:00:01\r\u001b[K     |████████████████████████████████| 574 kB 9.8 MB/s \n",
            "\u001b[?25hCollecting emoji\n",
            "  Downloading emoji-1.7.0.tar.gz (175 kB)\n",
            "\u001b[K     |████████████████████████████████| 175 kB 72.2 MB/s \n",
            "\u001b[?25hRequirement already satisfied: numpy in /usr/local/lib/python3.7/dist-packages (from stanza==1.4.0) (1.21.6)\n",
            "Requirement already satisfied: protobuf in /usr/local/lib/python3.7/dist-packages (from stanza==1.4.0) (3.17.3)\n",
            "Requirement already satisfied: tqdm in /usr/local/lib/python3.7/dist-packages (from stanza==1.4.0) (4.64.0)\n",
            "Collecting transformers\n",
            "  Downloading transformers-4.18.0-py3-none-any.whl (4.0 MB)\n",
            "\u001b[K     |████████████████████████████████| 4.0 MB 60.0 MB/s \n",
            "\u001b[?25hRequirement already satisfied: six in /usr/local/lib/python3.7/dist-packages (from stanza==1.4.0) (1.15.0)\n",
            "Requirement already satisfied: requests in /usr/local/lib/python3.7/dist-packages (from stanza==1.4.0) (2.23.0)\n",
            "Requirement already satisfied: torch>=1.3.0 in /usr/local/lib/python3.7/dist-packages (from stanza==1.4.0) (1.11.0+cu113)\n",
            "Requirement already satisfied: typing-extensions in /usr/local/lib/python3.7/dist-packages (from torch>=1.3.0->stanza==1.4.0) (4.2.0)\n",
            "Requirement already satisfied: certifi>=2017.4.17 in /usr/local/lib/python3.7/dist-packages (from requests->stanza==1.4.0) (2021.10.8)\n",
            "Requirement already satisfied: idna<3,>=2.5 in /usr/local/lib/python3.7/dist-packages (from requests->stanza==1.4.0) (2.10)\n",
            "Requirement already satisfied: chardet<4,>=3.0.2 in /usr/local/lib/python3.7/dist-packages (from requests->stanza==1.4.0) (3.0.4)\n",
            "Requirement already satisfied: urllib3!=1.25.0,!=1.25.1,<1.26,>=1.21.1 in /usr/local/lib/python3.7/dist-packages (from requests->stanza==1.4.0) (1.24.3)\n",
            "Requirement already satisfied: regex!=2019.12.17 in /usr/local/lib/python3.7/dist-packages (from transformers->stanza==1.4.0) (2019.12.20)\n",
            "Requirement already satisfied: filelock in /usr/local/lib/python3.7/dist-packages (from transformers->stanza==1.4.0) (3.6.0)\n",
            "Collecting sacremoses\n",
            "  Downloading sacremoses-0.0.53.tar.gz (880 kB)\n",
            "\u001b[K     |████████████████████████████████| 880 kB 54.7 MB/s \n",
            "\u001b[?25hCollecting tokenizers!=0.11.3,<0.13,>=0.11.1\n",
            "  Downloading tokenizers-0.12.1-cp37-cp37m-manylinux_2_12_x86_64.manylinux2010_x86_64.whl (6.6 MB)\n",
            "\u001b[K     |████████████████████████████████| 6.6 MB 57.6 MB/s \n",
            "\u001b[?25hRequirement already satisfied: importlib-metadata in /usr/local/lib/python3.7/dist-packages (from transformers->stanza==1.4.0) (4.11.3)\n",
            "Collecting pyyaml>=5.1\n",
            "  Downloading PyYAML-6.0-cp37-cp37m-manylinux_2_5_x86_64.manylinux1_x86_64.manylinux_2_12_x86_64.manylinux2010_x86_64.whl (596 kB)\n",
            "\u001b[K     |████████████████████████████████| 596 kB 60.5 MB/s \n",
            "\u001b[?25hCollecting huggingface-hub<1.0,>=0.1.0\n",
            "  Downloading huggingface_hub-0.5.1-py3-none-any.whl (77 kB)\n",
            "\u001b[K     |████████████████████████████████| 77 kB 8.3 MB/s \n",
            "\u001b[?25hRequirement already satisfied: packaging>=20.0 in /usr/local/lib/python3.7/dist-packages (from transformers->stanza==1.4.0) (21.3)\n",
            "Requirement already satisfied: pyparsing!=3.0.5,>=2.0.2 in /usr/local/lib/python3.7/dist-packages (from packaging>=20.0->transformers->stanza==1.4.0) (3.0.8)\n",
            "Requirement already satisfied: zipp>=0.5 in /usr/local/lib/python3.7/dist-packages (from importlib-metadata->transformers->stanza==1.4.0) (3.8.0)\n",
            "Requirement already satisfied: click in /usr/local/lib/python3.7/dist-packages (from sacremoses->transformers->stanza==1.4.0) (7.1.2)\n",
            "Requirement already satisfied: joblib in /usr/local/lib/python3.7/dist-packages (from sacremoses->transformers->stanza==1.4.0) (1.1.0)\n",
            "Building wheels for collected packages: emoji, sacremoses\n",
            "  Building wheel for emoji (setup.py) ... \u001b[?25l\u001b[?25hdone\n",
            "  Created wheel for emoji: filename=emoji-1.7.0-py3-none-any.whl size=171046 sha256=1859d54aaaad6a6344eff334573ccb39313beae7176607702c3f4e6731e5456e\n",
            "  Stored in directory: /root/.cache/pip/wheels/8a/4e/b6/57b01db010d17ef6ea9b40300af725ef3e210cb1acfb7ac8b6\n",
            "  Building wheel for sacremoses (setup.py) ... \u001b[?25l\u001b[?25hdone\n",
            "  Created wheel for sacremoses: filename=sacremoses-0.0.53-py3-none-any.whl size=895260 sha256=774c9f85b7a5e8ff6860124d9bf0f809a7c1aac8a267328b1ffe39a78bc80010\n",
            "  Stored in directory: /root/.cache/pip/wheels/87/39/dd/a83eeef36d0bf98e7a4d1933a4ad2d660295a40613079bafc9\n",
            "Successfully built emoji sacremoses\n",
            "Installing collected packages: pyyaml, tokenizers, sacremoses, huggingface-hub, transformers, emoji, stanza\n",
            "  Attempting uninstall: pyyaml\n",
            "    Found existing installation: PyYAML 3.13\n",
            "    Uninstalling PyYAML-3.13:\n",
            "      Successfully uninstalled PyYAML-3.13\n",
            "Successfully installed emoji-1.7.0 huggingface-hub-0.5.1 pyyaml-6.0 sacremoses-0.0.53 stanza-1.4.0 tokenizers-0.12.1 transformers-4.18.0\n"
          ]
        }
      ]
    },
    {
      "cell_type": "code",
      "source": [
        "import pickle"
      ],
      "metadata": {
        "id": "yvuOnm5emMKN"
      },
      "execution_count": null,
      "outputs": []
    },
    {
      "cell_type": "code",
      "source": [
        "import stanza\n",
        "stanza.download('fr')"
      ],
      "metadata": {
        "colab": {
          "base_uri": "https://localhost:8080/",
          "height": 116,
          "referenced_widgets": [
            "91a5d5d4554647f38f844ce090af7372",
            "d63133328c5c4c7d99fc4ec976036b05",
            "7e08a07825124b7287c5a692d7098ff4",
            "4f3a106c20b6433c8c4752a627576e63",
            "f3b01a86455142d9bb3b85705945bf8c",
            "3551395bc9544516996603f78f851e25",
            "23c8d2b45b09452d81a5dd495ecdc0d3",
            "2844e22348f74431a63ed1e5aef4c2b5",
            "88e6784f33eb4af49999044a147efa2d",
            "6101eb8c0e1b4b04a2d25121dd661229",
            "d70cad1bdb4344148b9c2c0d3ad841e2",
            "6759ee6a2090449a9e5681dd2923dc95",
            "e3a5c654bfdb481e980e7a03e0e37fee",
            "fcd47bec4f5b42abb20638fe621acece",
            "e88b423e4a2d4a5397ab41d772ba94c5",
            "c6d5c69744524bcc9414a0a896e88730",
            "bc71e5fbb3ce405ab16684a7f4a54210",
            "b52efd639bf9451cbbabe3f7a266241b",
            "42a2d4c457234461a180939a41b94e17",
            "0958695fdf9b493cafeb7d9e612ca3ea",
            "e8837d244b1148a5ac2d9c2a5d9576ab",
            "11c83f9ac31741d6b06c48dadb163f31"
          ]
        },
        "id": "2sv_N0E_ldEU",
        "outputId": "7a83394f-5213-4dc0-936b-983fa3130e24"
      },
      "execution_count": null,
      "outputs": [
        {
          "output_type": "display_data",
          "data": {
            "text/plain": [
              "Downloading https://raw.githubusercontent.com/stanfordnlp/stanza-resources/main/resources_1.4.0.json:   0%|   …"
            ],
            "application/vnd.jupyter.widget-view+json": {
              "version_major": 2,
              "version_minor": 0,
              "model_id": "91a5d5d4554647f38f844ce090af7372"
            }
          },
          "metadata": {}
        },
        {
          "output_type": "stream",
          "name": "stderr",
          "text": [
            "2022-05-09 14:37:06 INFO: Downloading default packages for language: fr (French)...\n"
          ]
        },
        {
          "output_type": "display_data",
          "data": {
            "text/plain": [
              "Downloading https://huggingface.co/stanfordnlp/stanza-fr/resolve/v1.4.0/models/default.zip:   0%|          | 0…"
            ],
            "application/vnd.jupyter.widget-view+json": {
              "version_major": 2,
              "version_minor": 0,
              "model_id": "6759ee6a2090449a9e5681dd2923dc95"
            }
          },
          "metadata": {}
        },
        {
          "output_type": "stream",
          "name": "stderr",
          "text": [
            "2022-05-09 14:37:19 INFO: Finished downloading models and saved to /root/stanza_resources.\n"
          ]
        }
      ]
    },
    {
      "cell_type": "code",
      "source": [
        "nlp_stanza = stanza.Pipeline(lang='fr', processors='tokenize,mwt,pos,lemma,ner')"
      ],
      "metadata": {
        "colab": {
          "base_uri": "https://localhost:8080/",
          "height": 362,
          "referenced_widgets": [
            "9d0d907c07e54995812d8dff7ddd0b0f",
            "8db5a096790c4654b276d377c4f69501",
            "59ce47e0956348c9b5b09af8500a5420",
            "58066743657d4d3788d744126db89fb8",
            "372b7d9b2bb5437eaf531e6d60115d70",
            "9cbe3b4cf72b439493005ef023a83b9a",
            "86a335b026f5428b919fbb5530085a40",
            "2edcac7c1c9e4d5d87643a3f5e8ae5ff",
            "43c9315ce4bb4275a471a55308fdfe79",
            "df0097d1b2bf4816882bda9445875fcd",
            "02ca20fac57d4cf9940cf3e2ad97b7ee"
          ]
        },
        "id": "_jQx4Z9sln-X",
        "outputId": "11e63b9c-f55d-47dc-fecb-b921b989f243"
      },
      "execution_count": null,
      "outputs": [
        {
          "output_type": "display_data",
          "data": {
            "text/plain": [
              "Downloading https://raw.githubusercontent.com/stanfordnlp/stanza-resources/main/resources_1.4.0.json:   0%|   …"
            ],
            "application/vnd.jupyter.widget-view+json": {
              "version_major": 2,
              "version_minor": 0,
              "model_id": "9d0d907c07e54995812d8dff7ddd0b0f"
            }
          },
          "metadata": {}
        },
        {
          "output_type": "stream",
          "name": "stderr",
          "text": [
            "2022-05-09 14:37:30 INFO: Loading these models for language: fr (French):\n",
            "=======================\n",
            "| Processor | Package |\n",
            "-----------------------\n",
            "| tokenize  | gsd     |\n",
            "| mwt       | gsd     |\n",
            "| pos       | gsd     |\n",
            "| lemma     | gsd     |\n",
            "| ner       | wikiner |\n",
            "=======================\n",
            "\n",
            "2022-05-09 14:37:30 INFO: Use device: gpu\n",
            "2022-05-09 14:37:30 INFO: Loading: tokenize\n",
            "2022-05-09 14:37:40 INFO: Loading: mwt\n",
            "2022-05-09 14:37:40 INFO: Loading: pos\n",
            "2022-05-09 14:37:41 INFO: Loading: lemma\n",
            "2022-05-09 14:37:41 INFO: Loading: ner\n",
            "2022-05-09 14:37:42 INFO: Done loading processors!\n"
          ]
        }
      ]
    },
    {
      "cell_type": "code",
      "source": [
        "!gdown --id 1GEgd5cQoJkTm5PRWfixxOKHe3uOlxFqo"
      ],
      "metadata": {
        "colab": {
          "base_uri": "https://localhost:8080/"
        },
        "id": "s7yrqNkqlyvb",
        "outputId": "a8949fef-3787-449d-bd99-5577be6bb367"
      },
      "execution_count": null,
      "outputs": [
        {
          "output_type": "stream",
          "name": "stdout",
          "text": [
            "/usr/local/lib/python3.7/dist-packages/gdown/cli.py:131: FutureWarning: Option `--id` was deprecated in version 4.3.1 and will be removed in 5.0. You don't need to pass it anymore to use a file ID.\n",
            "  category=FutureWarning,\n",
            "Downloading...\n",
            "From: https://drive.google.com/uc?id=1GEgd5cQoJkTm5PRWfixxOKHe3uOlxFqo\n",
            "To: /content/miserables.txt\n",
            "100% 3.17M/3.17M [00:00<00:00, 235MB/s]\n"
          ]
        }
      ]
    },
    {
      "cell_type": "code",
      "source": [
        "filepath_of_text = \"/content/miserables.txt\""
      ],
      "metadata": {
        "id": "PP5gC505l5qZ"
      },
      "execution_count": null,
      "outputs": []
    },
    {
      "cell_type": "code",
      "source": [
        "full_text = open(filepath_of_text, encoding=\"utf-8\").read()"
      ],
      "metadata": {
        "id": "1c3Djgfnl9CQ"
      },
      "execution_count": null,
      "outputs": []
    },
    {
      "cell_type": "code",
      "source": [
        "miserables_stanza=nlp_stanza(full_text)"
      ],
      "metadata": {
        "id": "ZFy0r8Z5mAnp"
      },
      "execution_count": null,
      "outputs": []
    },
    {
      "cell_type": "code",
      "source": [
        "pick_insert = open('/content/drive/MyDrive/Colab_Notebooks/enexdi/dumped/nlp_stanza3.pickle','wb')\n",
        "pickle.dump(miserables_stanza, pick_insert)\n",
        "pick_insert.close()"
      ],
      "metadata": {
        "id": "-yXoRcOumGeZ"
      },
      "execution_count": null,
      "outputs": []
    },
    {
      "cell_type": "code",
      "source": [
        "# Si jamais vous n'avez pas envie de faire tourner le nlp de stanza, exécutez cette cellule.\n",
        "pick_read = open('/content/drive/MyDrive/Colab_Notebooks/enexdi/dumped/nlp_stanza3.pickle','rb')\n",
        "miserables_stanza = pickle.load(pick_read)\n",
        "pick_read.close()"
      ],
      "metadata": {
        "id": "ZXyoH_LFmRZT"
      },
      "execution_count": null,
      "outputs": []
    },
    {
      "cell_type": "code",
      "source": [
        "lemmas = [token.lemma for sent in miserables_stanza.sentences for token in sent.words]"
      ],
      "metadata": {
        "id": "cLZHj5fZmV9r"
      },
      "execution_count": null,
      "outputs": []
    },
    {
      "cell_type": "code",
      "source": [
        "print(len(lemmas))"
      ],
      "metadata": {
        "colab": {
          "base_uri": "https://localhost:8080/"
        },
        "id": "7aVQhQ5Qn4H9",
        "outputId": "add4028e-c530-4e99-ac3e-8ce291bc0d07"
      },
      "execution_count": null,
      "outputs": [
        {
          "output_type": "stream",
          "name": "stdout",
          "text": [
            "649395\n"
          ]
        }
      ]
    },
    {
      "cell_type": "code",
      "source": [
        "print(lemmas[20:40])"
      ],
      "metadata": {
        "colab": {
          "base_uri": "https://localhost:8080/"
        },
        "id": "JEB0Z2tcrWCV",
        "outputId": "92227471-49f9-4082-f0a6-715cecd9c97f"
      },
      "execution_count": null,
      "outputs": [
        {
          "output_type": "stream",
          "name": "stdout",
          "text": [
            "['évêque', 'de', 'Digne', '.', 'ce', 'être', 'un', 'vieillard', 'de', 'environ', 'soixante-quinze', 'an', ';', 'il', 'occuper', 'le', 'siège', 'de', 'Digne', 'depuis']\n"
          ]
        }
      ]
    },
    {
      "cell_type": "code",
      "source": [
        "import nltk\n",
        "nltk.download('stopwords')\n",
        "from nltk.corpus import stopwords\n",
        "stopset = set(stopwords.words('french'))\n",
        "from nltk.collocations import BigramCollocationFinder\n",
        "from nltk.metrics import BigramAssocMeasures\n",
        "import matplotlib.pyplot as plt\n",
        "from sklearn.feature_extraction.text import CountVectorizer"
      ],
      "metadata": {
        "colab": {
          "base_uri": "https://localhost:8080/"
        },
        "id": "oUQBSQcaomZT",
        "outputId": "4723dbef-794e-47e2-9f7a-907554fb07d1"
      },
      "execution_count": null,
      "outputs": [
        {
          "output_type": "stream",
          "name": "stdout",
          "text": [
            "[nltk_data] Downloading package stopwords to /root/nltk_data...\n",
            "[nltk_data]   Unzipping corpora/stopwords.zip.\n"
          ]
        }
      ]
    },
    {
      "cell_type": "code",
      "source": [
        "hugo_text = nltk.Text(lemmas)"
      ],
      "metadata": {
        "id": "J335-pPio6_I"
      },
      "execution_count": null,
      "outputs": []
    },
    {
      "cell_type": "code",
      "source": [
        "print(type(hugo_text))"
      ],
      "metadata": {
        "colab": {
          "base_uri": "https://localhost:8080/"
        },
        "id": "0FnEfsB4pXn-",
        "outputId": "df9b67c3-0a38-4aba-e694-1fdff8c837a2"
      },
      "execution_count": null,
      "outputs": [
        {
          "output_type": "stream",
          "name": "stdout",
          "text": [
            "<class 'nltk.text.Text'>\n"
          ]
        }
      ]
    },
    {
      "cell_type": "code",
      "source": [
        "hugo_text.concordance(\"valjean\")"
      ],
      "metadata": {
        "colab": {
          "base_uri": "https://localhost:8080/"
        },
        "id": "T1QsTA7eo96w",
        "outputId": "14e0ceb7-a56d-44ee-bf91-70a46ee7a2f9"
      },
      "execution_count": null,
      "outputs": [
        {
          "output_type": "stream",
          "name": "stdout",
          "text": [
            "Displaying 25 of 1099 matches:\n",
            "il dire son nom? il il appeler Jean Valjean . maintenant vouloir il que il il d\n",
            "ut : -- voici . il lui appeler Jean Valjean . il être un galérien . il avoir pa\n",
            "oir mettre sur le passeport: « Jean Valjean , forçat libérer , natif de ... -- \n",
            " avoir ajouter : « -- monsieur Jean Valjean , ce être à Pontarlier que il aller\n",
            "Pontarlier , où il aller , monsieur Valjean , un industrie toute patriarcal et \n",
            " que ce homme , qui se appeler Jean Valjean , ne avoir que trop son misère prés\n",
            "r , et il avoir souper avec ce Jean Valjean de le même air et de le même façon \n",
            " le petit maison . chapitre VI Jean Valjean vers le milieu de le nuit , Jean Va\n",
            "an vers le milieu de le nuit , Jean Valjean se réveiller . Jean Valjean être de\n",
            " , Jean Valjean se réveiller . Jean Valjean être de un pauvre famille de paysan\n",
            " Mathieu ; son père se appeler Jean Valjean , ou Vlajean , sobriquet probableme\n",
            " contraction de _Voilà Jean_ . Jean Valjean être de un caractère pensif sans êt\n",
            "en apparence de le moins , que Jean Valjean . il avoir perdre en très bas âge s\n",
            "un arbre . il ne être rester à Jean Valjean que un sœur plus âgé que lui , veuv\n",
            " garçon . ce sœur avoir élever Jean Valjean , et tant que il avoir son mari il \n",
            "r huit an , le dernier un an . Jean Valjean venir de atteindre , lui , son ving\n",
            " chose de bourru de le part de Jean Valjean . son jeunesse se dépenser ainsi da\n",
            "verolles , pas loin de le chaumière Valjean , de le autre côté de le ruelle , u\n",
            "re appeler Marie-Claude ; le enfant Valjean , habituellement affamer , aller qu\n",
            "ement corriger le délinquant . Jean Valjean , brusque et bougon , payer en arri\n",
            " le bras ensanglanté . ce être Jean Valjean . ceci se passer en 1795 . Jean Val\n",
            "ean . ceci se passer en 1795 . Jean Valjean être traduire devant le tribunal de\n",
            "sans détruire le côté humain . Jean Valjean être déclarer coupable . le terme d\n",
            "le abandon de un être penser ! Jean Valjean être condamner à cinq an de galère \n",
            "chaîne être ferrer à Bicêtre . Jean Valjean faire partie de ce chaîne . un anci\n"
          ]
        }
      ]
    },
    {
      "cell_type": "code",
      "source": [
        "bcf = BigramCollocationFinder.from_words(lemmas)\n",
        "filter_stops = lambda w: len(w) < 3 or w in stopset\n",
        "bcf.apply_word_filter(filter_stops)\n",
        "bcf.nbest(BigramAssocMeasures.likelihood_ratio, 4)"
      ],
      "metadata": {
        "colab": {
          "base_uri": "https://localhost:8080/"
        },
        "id": "hDmrvh4lpBpH",
        "outputId": "ababd758-0e2d-4c92-ea2b-f614ad3ef665"
      },
      "execution_count": null,
      "outputs": [
        {
          "output_type": "execute_result",
          "data": {
            "text/plain": [
              "[('Jean', 'Valjean'),\n",
              " ('quelque', 'chose'),\n",
              " ('madame', 'Magloire'),\n",
              " ('jeune', 'fille')]"
            ]
          },
          "metadata": {},
          "execution_count": 20
        }
      ]
    },
    {
      "cell_type": "code",
      "source": [
        "plt.figure(figsize=(20, 10))\n",
        "hugo_text.dispersion_plot(['Valjean', 'Javert', 'Cosette', 'Marius'])"
      ],
      "metadata": {
        "colab": {
          "base_uri": "https://localhost:8080/",
          "height": 621
        },
        "id": "SRU25o4dvcSJ",
        "outputId": "98fcb299-dcd6-4ae3-dfb7-a6b5930d54af"
      },
      "execution_count": null,
      "outputs": [
        {
          "output_type": "display_data",
          "data": {
            "text/plain": [
              "<Figure size 1440x720 with 1 Axes>"
            ],
            "image/png": "[encoded data removed]"
          },
          "metadata": {
            "needs_background": "light"
          }
        }
      ]
    },
    {
      "cell_type": "code",
      "source": [
        "import pandas as pd"
      ],
      "metadata": {
        "id": "-HqlQ4-m91XJ"
      },
      "execution_count": null,
      "outputs": []
    },
    {
      "cell_type": "code",
      "source": [
        "def word_info_df(doc):\n",
        "    \"\"\"\n",
        "    - Parameters: doc (a Stanza Document object)\n",
        "    - Returns: A Pandas DataFrame object with one row for each token in\n",
        "      doc, and columns for text, lemma, upos, and xpos.\n",
        "    \"\"\"\n",
        "    rows = []\n",
        "    for sentence in doc.sentences:\n",
        "        for token, word in zip(sentence.tokens, sentence.words):\n",
        "            row = {\n",
        "                \"text\": word.text,\n",
        "                \"lemma\": word.lemma,\n",
        "                \"upos\": word.upos,\n",
        "                \"ent\": token.ner\n",
        "            }\n",
        "            rows.append(row)\n",
        "    return pd.DataFrame(rows)"
      ],
      "metadata": {
        "id": "7LYx4JY_69WV"
      },
      "execution_count": null,
      "outputs": []
    },
    {
      "cell_type": "code",
      "source": [
        "stanza_dataframe = word_info_df(miserables_stanza)"
      ],
      "metadata": {
        "id": "HK2anSjJ95Bt"
      },
      "execution_count": null,
      "outputs": []
    },
    {
      "cell_type": "code",
      "source": [
        "headers = list(stanza_dataframe.columns)\n",
        "print(\"voici les titres de colonnes : \"+ str(headers))\n",
        "print(stanza_dataframe)"
      ],
      "metadata": {
        "colab": {
          "base_uri": "https://localhost:8080/"
        },
        "id": "5fHKUOEz-IVA",
        "outputId": "cef040e7-23a6-4175-be08-6fc360cf461c"
      },
      "execution_count": null,
      "outputs": [
        {
          "output_type": "stream",
          "name": "stdout",
          "text": [
            "voici les titres de colonnes : ['text', 'lemma', 'upos', 'ent']\n",
            "              text       lemma   upos     ent\n",
            "0           Victor      Victor  PROPN   B-PER\n",
            "1             Hugo        Hugo  PROPN   E-PER\n",
            "2              LES          le    DET  B-MISC\n",
            "3       MISÉRABLES  MISÉRABLES  PROPN  E-MISC\n",
            "4            Livre       livre   NOUN       O\n",
            "...            ...         ...    ...     ...\n",
            "639388       poste       poste   NOUN       O\n",
            "639389          de          de    ADP       O\n",
            "639390          l'          le    DET   B-ORG\n",
            "639391  Imprimerie  imprimerie   NOUN   E-ORG\n",
            "639392      royale       royal    ADJ       O\n",
            "\n",
            "[639393 rows x 4 columns]\n"
          ]
        }
      ]
    },
    {
      "cell_type": "code",
      "source": [
        "from stanza.models.common.doc import StanzaObject\n",
        "stanza_dataframe.to_csv('/content/drive/MyDrive/Colab_Notebooks/enexdi/dumped/miserables.csv', encoding='utf-8')"
      ],
      "metadata": {
        "id": "8jdaXGNtOiVt"
      },
      "execution_count": null,
      "outputs": []
    },
    {
      "cell_type": "code",
      "source": [
        "stanza_dataframe['upos'].value_counts()"
      ],
      "metadata": {
        "colab": {
          "base_uri": "https://localhost:8080/"
        },
        "id": "n7zK7ab3A1FY",
        "outputId": "ba9c4ca5-c1f0-421d-9c8e-01f5622c3472"
      },
      "execution_count": null,
      "outputs": [
        {
          "output_type": "execute_result",
          "data": {
            "text/plain": [
              "NOUN     109266\n",
              "DET       89342\n",
              "PUNCT     89304\n",
              "VERB      74114\n",
              "ADP       72562\n",
              "PRON      71071\n",
              "ADV       35390\n",
              "ADJ       30015\n",
              "AUX       23117\n",
              "PROPN     20607\n",
              "CCONJ     17562\n",
              "SCONJ      9947\n",
              "NUM        5531\n",
              "INTJ       1107\n",
              "X           416\n",
              "SYM          44\n",
              "Name: upos, dtype: int64"
            ]
          },
          "metadata": {},
          "execution_count": 23
        }
      ]
    },
    {
      "cell_type": "code",
      "source": [
        "stanza_dataframe['lemma'].value_counts()"
      ],
      "metadata": {
        "colab": {
          "base_uri": "https://localhost:8080/"
        },
        "id": "wu_uGJ9jaXF4",
        "outputId": "d2681c68-37a2-410c-9ead-8eb2449e57f0"
      },
      "execution_count": null,
      "outputs": [
        {
          "output_type": "execute_result",
          "data": {
            "text/plain": [
              "le            57014\n",
              ",             43812\n",
              "de            32807\n",
              "il            25471\n",
              ".             23210\n",
              "              ...  \n",
              "assomption        1\n",
              "crimes!           1\n",
              "souillure         1\n",
              "franchi           1\n",
              "fourrière         1\n",
              "Name: lemma, Length: 20159, dtype: int64"
            ]
          },
          "metadata": {},
          "execution_count": 38
        }
      ]
    },
    {
      "cell_type": "code",
      "source": [
        "tmp=stanza_dataframe['ent'].value_counts()[1:].to_frame()\n",
        "print(tmp)"
      ],
      "metadata": {
        "colab": {
          "base_uri": "https://localhost:8080/"
        },
        "id": "JG1CVTvwa9CT",
        "outputId": "ade8cf49-6871-4557-e75d-1735ce0398cb"
      },
      "execution_count": null,
      "outputs": [
        {
          "output_type": "stream",
          "name": "stdout",
          "text": [
            "         ent\n",
            "S-PER   9897\n",
            "S-LOC   4382\n",
            "B-PER   2652\n",
            "E-PER   2652\n",
            "B-MISC  2026\n",
            "E-MISC  2026\n",
            "S-MISC  2022\n",
            "I-MISC  1382\n",
            "E-LOC   1267\n",
            "B-LOC   1267\n",
            "I-LOC    766\n",
            "I-PER    465\n",
            "B-ORG     78\n",
            "E-ORG     78\n",
            "I-ORG     76\n",
            "S-ORG     27\n"
          ]
        }
      ]
    },
    {
      "cell_type": "code",
      "source": [
        "fig,ax = plt.subplots()\n",
        "tmp.plot(ax = ax, kind = 'bar', ylabel = 'frequency')\n",
        "plt.show()"
      ],
      "metadata": {
        "colab": {
          "base_uri": "https://localhost:8080/",
          "height": 290
        },
        "id": "pn6645kXdr3q",
        "outputId": "63c462da-f7dd-49b6-cd09-9034dc564c32"
      },
      "execution_count": null,
      "outputs": [
        {
          "output_type": "display_data",
          "data": {
            "text/plain": [
              "<Figure size 432x288 with 1 Axes>"
            ],
            "image/png": "[encoded data removed]"
          },
          "metadata": {
            "needs_background": "light"
          }
        }
      ]
    },
    {
      "cell_type": "code",
      "source": [
        "tmp=stanza_dataframe['upos'].value_counts().to_frame()"
      ],
      "metadata": {
        "id": "Ii6hj5rHiIzl"
      },
      "execution_count": null,
      "outputs": []
    },
    {
      "cell_type": "code",
      "source": [
        "fig,ax = plt.subplots()\n",
        "tmp.plot(ax = ax, kind = 'bar', ylabel = 'frequency')\n",
        "plt.show()"
      ],
      "metadata": {
        "id": "neIgnCLuiNT4",
        "outputId": "1844873b-e537-468c-8566-84a21a06bfbb",
        "colab": {
          "base_uri": "https://localhost:8080/",
          "height": 289
        }
      },
      "execution_count": null,
      "outputs": [
        {
          "output_type": "display_data",
          "data": {
            "text/plain": [
              "<Figure size 432x288 with 1 Axes>"
            ],
            "image/png": "[encoded data removed]"
          },
          "metadata": {
            "needs_background": "light"
          }
        }
      ]
    },
    {
      "cell_type": "code",
      "source": [
        ""
      ],
      "metadata": {
        "id": "US-75rsniPKr"
      },
      "execution_count": null,
      "outputs": []
    }
  ]
}