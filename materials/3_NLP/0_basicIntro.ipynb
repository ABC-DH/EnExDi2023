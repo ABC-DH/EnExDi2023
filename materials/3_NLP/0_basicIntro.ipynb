{
  "nbformat": 4,
  "nbformat_minor": 0,
  "metadata": {
    "colab": {
      "name": "0_basicIntro.ipynb",
      "provenance": [],
      "collapsed_sections": [],
      "mount_file_id": "1qASAbm_lNwLNgl5rlU6ZiazZn4W-UksL",
      "authorship_tag": "ABX9TyP3r/qmrf2Mj+ZzNbZ3a5z+",
      "include_colab_link": true
    },
    "kernelspec": {
      "name": "python3",
      "display_name": "Python 3"
    },
    "language_info": {
      "name": "python"
    }
  },
  "cells": [
    {
      "cell_type": "markdown",
      "metadata": {
        "id": "view-in-github",
        "colab_type": "text"
      },
      "source": [
        "<a href=\"https://colab.research.google.com/github/OdysseusPolymetis/colabs_for_nlp/blob/main/0_basicIntro.ipynb\" target=\"_parent\"><img src=\"https://colab.research.google.com/assets/colab-badge.svg\" alt=\"Open In Colab\"/></a>"
      ]
    },
    {
      "cell_type": "markdown",
      "source": [
        "# **Bienvenue dans le Terminal (ou l'invite de commande)**\n",
        "D'abord, je précise qu'une partie du code qu'on verra ici est tiré de [cet ensemble de notebooks](https://melaniewalsh.github.io/Intro-Cultural-Analytics/welcome.html) de Melanie Walsh.\n",
        "\n",
        "L'invite de commande, ou terminal, est à distinguer de l'interface graphique utilisateur, graphical user interface ou GUI). L'utilisateur lambda ne passe généralement que par le GUI.\n",
        "\n",
        "Voilà un exemple de deux manières de faire qui produisent exactement le même effet (en terminal et en GUI)."
      ],
      "metadata": {
        "id": "SFt7H7NzyS8i"
      }
    },
    {
      "cell_type": "code",
      "source": [
        "from IPython.display import YouTubeVideo\n",
        "YouTubeVideo(\"JkedUl0emA8\", width=512, height=288)"
      ],
      "metadata": {
        "colab": {
          "base_uri": "https://localhost:8080/",
          "height": 309
        },
        "id": "87-j-tDeDNCq",
        "outputId": "e118372b-1c60-4925-d75d-37d4a6e61a73"
      },
      "execution_count": null,
      "outputs": [
        {
          "output_type": "execute_result",
          "data": {
            "text/plain": [
              "<IPython.lib.display.YouTubeVideo at 0x7f28d2065e10>"
            ],
            "text/html": [
              "\n",
              "        <iframe\n",
              "            width=\"512\"\n",
              "            height=\"288\"\n",
              "            src=\"https://www.youtube.com/embed/JkedUl0emA8\"\n",
              "            frameborder=\"0\"\n",
              "            allowfullscreen\n",
              "        ></iframe>\n",
              "        "
            ],
            "image/jpeg": "[encoded data removed]"
          },
          "metadata": {},
          "execution_count": 1
        }
      ]
    },
    {
      "cell_type": "code",
      "source": [
        "from IPython.display import YouTubeVideo\n",
        "YouTubeVideo(\"xBfI0I3iuVk\", width=512, height=288)"
      ],
      "metadata": {
        "colab": {
          "base_uri": "https://localhost:8080/",
          "height": 309
        },
        "id": "LWqs9tAKDXUW",
        "outputId": "3f89d842-c657-4b9a-e3aa-52920f846f13"
      },
      "execution_count": null,
      "outputs": [
        {
          "output_type": "execute_result",
          "data": {
            "text/plain": [
              "<IPython.lib.display.YouTubeVideo at 0x7f28cf99f590>"
            ],
            "text/html": [
              "\n",
              "        <iframe\n",
              "            width=\"512\"\n",
              "            height=\"288\"\n",
              "            src=\"https://www.youtube.com/embed/xBfI0I3iuVk\"\n",
              "            frameborder=\"0\"\n",
              "            allowfullscreen\n",
              "        ></iframe>\n",
              "        "
            ],
            "image/jpeg": "[encoded data removed]"
          },
          "metadata": {},
          "execution_count": 2
        }
      ]
    },
    {
      "cell_type": "markdown",
      "source": [
        "## Les quelques commandes à connaître\n",
        "\n",
        "| Mac / Chrome / Linux                            | Explanation                                                                                               | Windows PowerShell                                                                   |\n",
        "|--------------------------------------------|-----------------------------------------------------------------------------------------------------------|--------------------------------------------------------------------------------------|\n",
        "| `cd` *filepath*                            | **c**hange **d**irectory, aka move into a different folder                                                | `cd` *filepath*                                                                      |\n",
        "| `ls`                                       | **l**i**s**t the files and folders in your current **dir**ectory                                          | `ls` / `dir` / `Get-ChildItem`                                                       |\n",
        "| `pwd`                                      | show **p**ath of **w**orking **d**irectory, aka the folder that you're in right now                       | `pwd` / `cd`                                                                         |\n",
        "| `touch` *filename*                         | make a new file                                                                                           | `ni` *filename*                                                                      |\n",
        "| `mkdir` *directory-name*                   | **m**a**k**e a new **dir**ectory, aka a folder                                                            | `mkdir` *directory-name*                                                             |\n",
        "| `rm` *filename*                            | **r**e**m**ove, aka delete, a file or directory                                                           | `rm` *filename* / `del` *filename*                                                   |\n",
        "| `cp` *original-filename* *copied-filename* | **c**o**p**y a file or directory                                                                          | `cp` / `copy`                                                                        |\n",
        "| `mv` *original-filename* *new-filename*    | **m**o**v**e or rename a file or directory                                                                | `move` *original-filename* *new-filename* / `ren` *original-filename* *new-filename* |\n",
        "| `cat` *filename*                           | show all the contents of a file                                                                           | `cat` *filename* / `type` *filename*                                                 |\n",
        "| `less` *filename*                          | show snippet of a file that allows you to scroll through the entire thing                                 | `more` *filename*                                                                    |\n",
        "| `head` *filename*                          | show the first 10 lines of a file (change number of lines by adding `-*a number*` flag, e.g. `head -100`) | `gc` *filename* `-head 10`                                                           |\n",
        "| `tail` *filename*                          | show the last 10 lines of a file (change number of lines by adding `-*a number*` flag, e.g. `tail -100`)  | `gc` *filename* `-tail 10`                                                           |\n",
        "| `wc -w -l` *filename*                      | show how many **w**ords or lines in a file                                                                | `gc` *filename* \\| `Measure-Object -Word –Line`                                      |\n",
        "| `man` *command*                            | show the **man**ual, aka the documentation that tells you what a particular command does                  | `help` *command*                                                                               |\n",
        "| `echo`                                     | print text to the command line                                                                            | `echo`                                                                               |\n",
        "| `grep` \"search term\" *filename* or *directory-name*       |      search for lines that include search term in file                                                                                                     | `findstr` \"search term\" *filename*                                                                 |\n",
        "| `curl -O` *url*            | **get**, a file from the **w**eb                                                                          | `wget` *url* `-OutFile` *new-filename*                                               |\n",
        "\n",
        "\n",
        "## Navigation et structure de fichiers\n",
        "\n",
        "<div class=\"admonition note\" name=\"html-admonition\" style=\"background: lightblue; padding: 10px\">\n",
        "<p class=\"title\">Note</p>\n",
        "Les symboles `%` et `!` au début des lignes de code en python permettent d'avoir accès aux lignes de commande du Jupyter Noteboook.\n",
        "\n",
        "</div>\n",
        "\n",
        "\n",
        "### Le dossier de travail, PWD\n",
        "\n",
        "⭐ *Vous êtes là !* ⭐ Une des commandes les plus utiles : celle qui vous permet de savoir où vous êtes sur votre ordinateur. Écrivez `pwd` et ça vous indiquera le chemin vers votre dossier travail (**p**ath of your **w**orking **d**irectory), c'est-à-dire le dossier dans lequel vous vous trouvez.\n",
        "\n",
        "| Mac / Chrome / Linux                            | Explanation                                                                                               | Windows PowerShell                                                                   |\n",
        "|--------------------------------------------|-----------------------------------------------------------------------------------------------------------|--------------------------------------------------------------------------------------|\n",
        "| `pwd`                                      | montrer **p**ath of **w**orking **d**irectory, le dossier dans lequel vous vous trouvez                       | `pwd` / `cd`                                                                         |"
      ],
      "metadata": {
        "id": "L4DZ5OQ2MxnJ"
      }
    },
    {
      "cell_type": "markdown",
      "source": [
        "## La base de recherche textuelle avec les lignes de commande\n",
        "\n",
        "Beaucoup de choses de base peuvent être faites à partir des lignes de commande.\n",
        "\n",
        "### Télécharger un texte depuis internet\n",
        "\n",
        "| Mac / Chrome / Linux                            | Explanation                                                                                               | Windows PowerShell                                                                   |\n",
        "|--------------------------------------------|-----------------------------------------------------------------------------------------------------------|--------------------------------------------------------------------------------------|\n",
        "| `curl -O` *url*         | **get**, a file from the **w**eb                                                                          | `wget` *url* `-OutFile` *new-filename*                                               |\n",
        "\n",
        "\n",
        "Vous pouvez télécharger un texte depuis internet avec `curl` ou `wget` avec la bonne adresse. Par exemple, ici nous allons télécharger les Misérables avec Gutenberg.\n",
        "\n",
        "On va chercher à partir du [Project Gutenberg](https://www.gutenberg.org/ebooks/search/). "
      ],
      "metadata": {
        "id": "tK2rYH6FOTtw"
      }
    },
    {
      "cell_type": "code",
      "source": [
        "!curl -O https://www.gutenberg.org/files/17489/17489-8.txt"
      ],
      "metadata": {
        "colab": {
          "base_uri": "https://localhost:8080/"
        },
        "id": "cOBjWpmHPAG5",
        "outputId": "ae99a89e-a403-4161-c33e-f9d7b65ba62e"
      },
      "execution_count": null,
      "outputs": [
        {
          "output_type": "stream",
          "name": "stdout",
          "text": [
            "  % Total    % Received % Xferd  Average Speed   Time    Time     Time  Current\n",
            "                                 Dload  Upload   Total   Spent    Left  Speed\n",
            "100  675k  100  675k    0     0  2457k      0 --:--:-- --:--:-- --:--:-- 2457k\n"
          ]
        }
      ]
    },
    {
      "cell_type": "code",
      "source": [
        "!wget https://www.gutenberg.org/files/17489/17489-8.txt"
      ],
      "metadata": {
        "colab": {
          "base_uri": "https://localhost:8080/"
        },
        "id": "9L8RXunOPQqs",
        "outputId": "aa4c91e4-b929-46aa-fc2e-fa9f0ac62ef5"
      },
      "execution_count": null,
      "outputs": [
        {
          "output_type": "stream",
          "name": "stdout",
          "text": [
            "--2022-05-10 07:50:34--  https://www.gutenberg.org/files/17489/17489-8.txt\n",
            "Resolving www.gutenberg.org (www.gutenberg.org)... 152.19.134.47, 2610:28:3090:3000:0:bad:cafe:47\n",
            "Connecting to www.gutenberg.org (www.gutenberg.org)|152.19.134.47|:443... connected.\n",
            "HTTP request sent, awaiting response... 200 OK\n",
            "Length: 692138 (676K) [text/plain]\n",
            "Saving to: ‘17489-8.txt.1’\n",
            "\n",
            "17489-8.txt.1       100%[===================>] 675.92K  --.-KB/s    in 0.1s    \n",
            "\n",
            "2022-05-10 07:50:35 (5.45 MB/s) - ‘17489-8.txt.1’ saved [692138/692138]\n",
            "\n"
          ]
        }
      ]
    },
    {
      "cell_type": "code",
      "source": [
        "%ls"
      ],
      "metadata": {
        "colab": {
          "base_uri": "https://localhost:8080/"
        },
        "id": "jaoyhXgrPaEw",
        "outputId": "f1701d8a-57d7-43c6-ce9b-4841479695e0"
      },
      "execution_count": null,
      "outputs": [
        {
          "output_type": "stream",
          "name": "stdout",
          "text": [
            "17489-8.txt  17489-8.txt.1  \u001b[0m\u001b[01;34mdrive\u001b[0m/  \u001b[01;34msample_data\u001b[0m/\n"
          ]
        }
      ]
    },
    {
      "cell_type": "code",
      "source": [
        "%mv 17489-8.txt miserables.txt"
      ],
      "metadata": {
        "id": "KISbUs-QDzML"
      },
      "execution_count": null,
      "outputs": []
    },
    {
      "cell_type": "markdown",
      "source": [
        "Maintenant on va voir combien de mots (approximativement) sont présents dans le fichier."
      ],
      "metadata": {
        "id": "HKpVxiRsEnfH"
      }
    },
    {
      "cell_type": "code",
      "source": [
        "!wc -w miserables.txt"
      ],
      "metadata": {
        "colab": {
          "base_uri": "https://localhost:8080/"
        },
        "id": "P6VeoT9TEcVv",
        "outputId": "ffc72791-61d2-43fe-e237-0a423712c030"
      },
      "execution_count": null,
      "outputs": [
        {
          "output_type": "stream",
          "name": "stdout",
          "text": [
            "110864 miserables.txt\n"
          ]
        }
      ]
    },
    {
      "cell_type": "markdown",
      "source": [
        "### Voir le contenu d'un fichier\n",
        "| Mac / Chrome / Linux                            | Explanation                                                                                               | Windows PowerShell                                                                   |\n",
        "|--------------------------------------------|-----------------------------------------------------------------------------------------------------------|--------------------------------------------------------------------------------------|\n",
        "| `cat` *filename*                           | tout le contenu du fichier                                                                           | `cat` *filename* / `type` *filename*                                                 |\n",
        "| `less` *filename*                          | montre une partie du fichier et vous permet quand même de scroller jusqu'au bout                                 | `more` *filename*                                                                    |\n",
        "| `head` *filename*                          | voir les dix premières lignes du fichier (on change le nombre de lignes avec `-*a number*` flag, exemple `head -100`) | `gc` *filename* `-head 10`                                                           |\n",
        "| `tail` *filename*                          | voir les dix dernières lignes du fichier (on change le nombre de lignes avec `-*a number*` flag, exemple `tail -100`)  | `gc` *filename* `-tail 10`                                                           |"
      ],
      "metadata": {
        "id": "JXvq4Lp7E5vG"
      }
    },
    {
      "cell_type": "code",
      "source": [
        "!head miserables.txt"
      ],
      "metadata": {
        "colab": {
          "base_uri": "https://localhost:8080/"
        },
        "id": "M6KwFWvnEyw9",
        "outputId": "bfdd4d74-be1a-431d-ebcf-3824311ec054"
      },
      "execution_count": null,
      "outputs": [
        {
          "output_type": "stream",
          "name": "stdout",
          "text": [
            "The Project Gutenberg EBook of Les mis�rables Tome I, by Victor Hugo\r\n",
            "\r\n",
            "This eBook is for the use of anyone anywhere at no cost and with\r\n",
            "almost no restrictions whatsoever.  You may copy it, give it away or\r\n",
            "re-use it under the terms of the Project Gutenberg License included\r\n",
            "with this eBook or online at www.gutenberg.org\r\n",
            "\r\n",
            "\r\n",
            "Title: Les mis�rables Tome I\r\n",
            "       Fantine\r\n"
          ]
        }
      ]
    },
    {
      "cell_type": "markdown",
      "source": [
        "### Chercher dans des fichiers\n",
        "| Mac / Chrome / Linux                            | Explanation                                                                                               | Windows PowerShell                                                                   |\n",
        "|--------------------------------------------|-----------------------------------------------------------------------------------------------------------|--------------------------------------------------------------------------------------|\n",
        "| `grep` \"search term\" *filename* or *directory-name*       |      search for lines that include search term in file                                                                                                     | `findstr` \"search term\" *filename*                                                                 |"
      ],
      "metadata": {
        "id": "BbhlprmsHbLw"
      }
    },
    {
      "cell_type": "code",
      "source": [
        "!grep \"argent\" -n miserables.txt"
      ],
      "metadata": {
        "colab": {
          "base_uri": "https://localhost:8080/"
        },
        "id": "rjnk1vG0Fjai",
        "outputId": "aa40d7e7-bcb5-4e51-d973-b39fe70e18d6"
      },
      "execution_count": null,
      "outputs": [
        {
          "output_type": "stream",
          "name": "stdout",
          "text": [
            "939:de l'argent; quand il n'en avait plus, il visitait les riches.\r\n",
            "2755:col par une petite ancre d'argent, laissait voir sa poitrine velue; il\r\n",
            "2837:--J'ai de l'argent.\r\n",
            "2880:d'avance? J'ai de l'argent, vous dis-je.\r\n",
            "2886:--Vous avez de l'argent....\r\n",
            "3301:--Parce que je n'ai pas d'argent.\r\n",
            "3361:madame Magloire entra, selon son habitude, pour prendre l'argenterie\r\n",
            "3589:de l'argent. Je payerai bien. Pardon, monsieur l'aubergiste, comment\r\n",
            "4632:argenterie.--Avec la grande cuiller, on en tirerait au moins deux cents\r\n",
            "4852:qui lui apparut fut le panier d'argenterie; il le prit, traversa la\r\n",
            "4871:le panier d'argenterie?\r\n",
            "4882:--Eh bien? dit-elle. Rien dedans! et l'argenterie?\r\n",
            "4976:qui sont en argent comme le reste et dont vous pourrez bien avoir deux\r\n",
            "6394:Alors leur agent rageant leur rapporta leur argent.\r\n",
            "6434:--Regardez les couteaux. Les manches sont en argent chez Bombarda, et en\r\n",
            "7473:Quand on l'avait vu gagner de l'argent, on avait dit: c'est un marchand.\r\n",
            "7474:Quand on l'avait vu semer son argent, on avait dit: c'est un ambitieux.\r\n",
            "7704:nom, et lui donnait de l'argent. Les petits savoyards se le disaient, et\r\n",
            "8493:l'auberge du _Tillac d'argent_, vous m'y trouverez.\r\n",
            "8503:soir au _Tillac d'argent_.\r\n",
            "8866:n'a pas de raisonnement. Il leur faut de l'argent. Ne me mettez pas en\r\n",
            "9177:plus, si vous voulez. Je vous donnerai tout l'argent qu'il vous faudra.\r\n",
            "10689:ces reproches qui ne chargent que moi, cette mauvaise action qui ne\r\n",
            "11887:petite croix d'argent qu'elle avait au cou et que la soeur Simplice lui\r\n",
            "13884:morceaux de toile dans lesquels il emballa les deux flambeaux d'argent.\r\n",
            "Binary file miserables.txt matches\n"
          ]
        }
      ]
    },
    {
      "cell_type": "code",
      "source": [
        "!grep \"argent\" -wc miserables.txt"
      ],
      "metadata": {
        "id": "e5Z3tNHiHndW",
        "colab": {
          "base_uri": "https://localhost:8080/"
        },
        "outputId": "e841611d-77ab-4e30-8228-b9af44f45d5d"
      },
      "execution_count": null,
      "outputs": [
        {
          "output_type": "stream",
          "name": "stdout",
          "text": [
            "67\n"
          ]
        }
      ]
    },
    {
      "cell_type": "markdown",
      "source": [
        "##Les installations pour Python et le Jupyter Notebook"
      ],
      "metadata": {
        "id": "VmraJn4P9lkh"
      }
    },
    {
      "cell_type": "markdown",
      "source": [
        "Vous avez deux options, mais généralement, si vous êtes sous Mac ou Windows, le plus simple c'est d'utiliser l'Anaconda Navigator. Pour Linux j'y viendrai après."
      ],
      "metadata": {
        "id": "GbN7TZnrO3Ty"
      }
    },
    {
      "cell_type": "markdown",
      "source": [
        "<img src='https://drive.google.com/uc?export=view&id=196MF7FV6GfwcFwuXYJcOk1h2xRJpLXJo' width=\"1000\">"
      ],
      "metadata": {
        "id": "Xg2JG7hOPemz"
      }
    },
    {
      "cell_type": "markdown",
      "source": [
        "<img src='https://drive.google.com/uc?export=view&id=1CRT6zWM44dB-u6tHBeDqIxnJywIzk9iI' width=\"1000\">"
      ],
      "metadata": {
        "id": "I_Rrttt5QNHk"
      }
    },
    {
      "cell_type": "markdown",
      "source": [
        "Une autre méthode, que je préfère habituellement, est de lancer le `jupyter notebook` via un terminal."
      ],
      "metadata": {
        "id": "4zAfcMwyRz20"
      }
    },
    {
      "cell_type": "markdown",
      "source": [
        "Si vous êtes sous Mac ou Linux, il vous faut naviguer (comme on vous a montré hier) jusqu'à votre dossier de scripts avec cette commande :\n",
        "<br>`cd chemin/vers/votre/dossier/de/scripts`\n",
        "<br>Et cela fait, vous pouvez lancer la commande :\n",
        "<br>`jupyter notebook`\n",
        "<br>Normalement, cela ouvrira un navigateur web avec les notebooks."
      ],
      "metadata": {
        "id": "Ns3RakSISDim"
      }
    },
    {
      "cell_type": "markdown",
      "source": [
        "Sous Windows c'est un peu la même chose, mais il est préférable de passer par l'Anaconda Prompt plutôt que par l'invite de commande. Après c'est la même chose :\n",
        "<br>`cd chemin/vers/votre/dossier/de/scripts`\n",
        "<br>Et cela fait, vous pouvez lancer la commande :\n",
        "<br>`jupyter notebook`\n",
        "<br>Normalement, cela ouvrira un navigateur web avec les notebooks."
      ],
      "metadata": {
        "id": "zW6MYqa2Tf_m"
      }
    },
    {
      "cell_type": "code",
      "source": [
        ""
      ],
      "metadata": {
        "id": "J-GTKUV5SCNJ"
      },
      "execution_count": null,
      "outputs": []
    }
  ]
}