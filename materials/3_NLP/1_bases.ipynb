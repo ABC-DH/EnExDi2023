{
  "nbformat": 4,
  "nbformat_minor": 0,
  "metadata": {
    "colab": {
      "name": "1_bases.ipynb",
      "provenance": [],
      "collapsed_sections": [],
      "mount_file_id": "1l6FrC5oXpha66KglFXfNh2EwXGs62aRa",
      "authorship_tag": "ABX9TyMlJdNR9zqsAxeJq4w+2pl0",
      "include_colab_link": true
    },
    "kernelspec": {
      "name": "python3",
      "display_name": "Python 3"
    },
    "language_info": {
      "name": "python"
    }
  },
  "cells": [
    {
      "cell_type": "markdown",
      "metadata": {
        "id": "view-in-github",
        "colab_type": "text"
      },
      "source": [
        "<a href=\"https://colab.research.google.com/github/OdysseusPolymetis/colabs_for_nlp/blob/main/1_bases.ipynb\" target=\"_parent\"><img src=\"https://colab.research.google.com/assets/colab-badge.svg\" alt=\"Open In Colab\"/></a>"
      ]
    },
    {
      "cell_type": "markdown",
      "source": [
        "#**LES BASES DE LA PROGRAMMATION PYTHON**"
      ],
      "metadata": {
        "id": "I4KAmYwG6Vvk"
      }
    },
    {
      "cell_type": "markdown",
      "source": [
        "##Les variables"
      ],
      "metadata": {
        "id": "0yVxDD3LKtxh"
      }
    },
    {
      "cell_type": "markdown",
      "source": [
        "![variables](https://mw.home.amu.edu.pl/zajecia/PPR2017/var.gif \"variables\")\n"
      ],
      "metadata": {
        "id": "-aIicB8QLpQT"
      }
    },
    {
      "cell_type": "markdown",
      "source": [
        "##Les types de variables\n",
        "Vous allez voir que...\n",
        "\n",
        "certaines parties de textes comme <font color='red'>\"miserables.txt\"</font> apparaissent en rouge et sont encadrées par des guillemets, tandis que d'autres variables apparaissent en vert, comme <font color='green'>40</font>, et n'ont pas de guillemets. C'est parce qu'il s'agit de deux types différents de données."
      ],
      "metadata": {
        "id": "gvvRCqlMVq0C"
      }
    },
    {
      "cell_type": "markdown",
      "source": [
        "| Data Type       | Explanation          | Example  |\n",
        "| ------------- |:-------------:| -----:|\n",
        "| String     | Text | ```\"lemonade\"``` |\n",
        "| Integer     | Whole Numbers      |   <font color='green'>```40```</font> |\n",
        "| Float | Decimal Numbers      |   <font color='green'>```40.2```</font> |\n",
        "| Boolean | True/False     |   <font color='green'>**```False```**</font> |"
      ],
      "metadata": {
        "id": "cT4IbDrcXC7B"
      }
    },
    {
      "cell_type": "markdown",
      "source": [
        "On peut vérifier le type de données très facilement."
      ],
      "metadata": {
        "id": "VV1nMpWYYD0z"
      }
    },
    {
      "cell_type": "code",
      "source": [
        "type(\"lemonade\")"
      ],
      "metadata": {
        "colab": {
          "base_uri": "https://localhost:8080/"
        },
        "id": "Mhg8CrVdYH6D",
        "outputId": "3091302f-223b-4d41-d8e0-5cac6262b786"
      },
      "execution_count": null,
      "outputs": [
        {
          "output_type": "execute_result",
          "data": {
            "text/plain": [
              "str"
            ]
          },
          "metadata": {},
          "execution_count": 22
        }
      ]
    },
    {
      "cell_type": "code",
      "source": [
        "type(40)"
      ],
      "metadata": {
        "colab": {
          "base_uri": "https://localhost:8080/"
        },
        "id": "QA0AkBL2YTRQ",
        "outputId": "97d3ee01-30c3-404e-b4cc-b976e3b23200"
      },
      "execution_count": null,
      "outputs": [
        {
          "output_type": "execute_result",
          "data": {
            "text/plain": [
              "int"
            ]
          },
          "metadata": {},
          "execution_count": 23
        }
      ]
    },
    {
      "cell_type": "markdown",
      "source": [
        "##L'indentation"
      ],
      "metadata": {
        "id": "jaQ-utDc35tV"
      }
    },
    {
      "cell_type": "markdown",
      "source": [
        "<img src='https://drive.google.com/uc?export=view&id=1_7lZJ4qI5K9Ha0B_nRjt6qw4klt7opYg' width=\"1000\">"
      ],
      "metadata": {
        "id": "AKKaPNRH39zP"
      }
    },
    {
      "cell_type": "markdown",
      "source": [
        "##Les fonctions\n",
        "Comme nous allons manipuler des objets (textuels), nous allons vouloir leur faire faire des choses, comme les lemmatiser ou les étiqueter syntaxiquement.\n",
        "On va donc avoir besoin de fonctions, des actions définies ayant des objets pour paramètres."
      ],
      "metadata": {
        "id": "a9aLQQCpNlP3"
      }
    },
    {
      "cell_type": "code",
      "source": [
        "def split_into_words(any_chunk_of_text):\n",
        "    words = re.split(\"\\W+\", any_chunk_of_text.lower())\n",
        "    return words "
      ],
      "metadata": {
        "id": "MCsRdtIHKy_J"
      },
      "execution_count": null,
      "outputs": []
    },
    {
      "cell_type": "markdown",
      "source": [
        "<img src='https://drive.google.com/uc?export=view&id=1IN-omiNV2tUXftyqaTBNO8aF-dMQPHiF' width=\"1000\">"
      ],
      "metadata": {
        "id": "n38OqIOtv-5d"
      }
    },
    {
      "cell_type": "markdown",
      "source": [
        "<img src='https://drive.google.com/uc?export=view&id=1hKB-GHN95o0E0CLDrBl75CQ2UlTObsJz' width=\"1000\">"
      ],
      "metadata": {
        "id": "Oy67qTtMwQEy"
      }
    },
    {
      "cell_type": "markdown",
      "source": [
        "##Les boucles"
      ],
      "metadata": {
        "id": "gIo2Y0SNwju_"
      }
    },
    {
      "cell_type": "markdown",
      "source": [
        "COmme on ne veut pas tout récrire à chaque fois (par exemple, si j'ai un texte que je veux lemmatiser, je ne vais pas écrire pour chaque mot la fonction \"lemmatiser\"), on va créer des boucles, c'est-à-dire des actions répétitives conditionnelles (elle ne vont s'exécuter ou s'arrêter que sous certaines conditions).\n",
        "<lb>Par exemple, si on pense qu'un texte est une liste de mots, on va lui dire quelque chose comme \"tant que tu as des mots (que tu n'as pas vus) dans la liste, fais ceci ou cela\". Exemple :"
      ],
      "metadata": {
        "id": "mJI3gGOhxATl"
      }
    },
    {
      "cell_type": "markdown",
      "source": [
        "<img src='https://drive.google.com/uc?export=view&id=1XKcA0ffSy3i6A0S5jWI7LPz7-PbZ1T88' width=\"1000\">"
      ],
      "metadata": {
        "id": "oIlA3y6fxqdu"
      }
    },
    {
      "cell_type": "markdown",
      "source": [
        "<img src='https://drive.google.com/uc?export=view&id=1yf_wPus-G__l4rjeY5I4vzc3rtdU31JC' width=\"1000\">"
      ],
      "metadata": {
        "id": "_IBs1hzMyMrH"
      }
    },
    {
      "cell_type": "markdown",
      "source": [
        "##Les conditions"
      ],
      "metadata": {
        "id": "woYTd6ZHzENp"
      }
    },
    {
      "cell_type": "markdown",
      "source": [
        "C'est ce qui permet à votre ordinateur de démarrer ou de s'arrêter. Si certaines conditions sont remplies, fais ça. Sinon, fais ça. Sinon arrête-toi, etc.\n",
        "<br>la structure des boucles en python (la plus connue disons), c'est :\n",
        "\n",
        "<br>**`if`** `some_first_condition :`\n",
        "<br>&nbsp;&nbsp;&nbsp;&nbsp;&nbsp;&nbsp;`do_something()`\n",
        "<br>**`elif`** `some_second_condtion :`\n",
        "<br>&nbsp;&nbsp;&nbsp;&nbsp;&nbsp;&nbsp;`do_something_else()`\n",
        "<br>**`else`** `:`\n",
        "<br>&nbsp;&nbsp;&nbsp;&nbsp;&nbsp;&nbsp;`do_a_third_thing()`"
      ],
      "metadata": {
        "id": "9ghQrHrazGlV"
      }
    },
    {
      "cell_type": "markdown",
      "source": [
        "<img src='https://drive.google.com/uc?export=view&id=1VYhnaiNah0xsn1We5XR1LeoXnj2SKOJh' width=\"1000\">"
      ],
      "metadata": {
        "id": "APPclu803XlV"
      }
    },
    {
      "cell_type": "markdown",
      "source": [
        "##Les libs, ou modules\n",
        "Beaucoup de fonctions sont déjà écrites en python et importées avec Jupyter. Avant d'apprendre à les télécharger, nous allons utiliser celles qui sont déjà présentes et les importer dans le notebook."
      ],
      "metadata": {
        "id": "w-O2tZ2XOC8x"
      }
    },
    {
      "cell_type": "code",
      "source": [
        "import re\n",
        "from collections import Counter"
      ],
      "metadata": {
        "id": "xodiXwI2N6NG"
      },
      "execution_count": null,
      "outputs": []
    },
    {
      "cell_type": "markdown",
      "source": [
        "Ici nous allons utiliser le module \"re\" que nous appelons dans la fonction \"split_into_words\""
      ],
      "metadata": {
        "id": "_pBxyDvyOVGu"
      }
    },
    {
      "cell_type": "code",
      "source": [
        "!gdown --id 1GEgd5cQoJkTm5PRWfixxOKHe3uOlxFqo"
      ],
      "metadata": {
        "colab": {
          "base_uri": "https://localhost:8080/"
        },
        "id": "cUfXFR7NaceQ",
        "outputId": "4c1531ad-f2b0-4bac-fec8-6c558cebbec7"
      },
      "execution_count": 1,
      "outputs": [
        {
          "output_type": "stream",
          "name": "stdout",
          "text": [
            "/usr/local/lib/python3.7/dist-packages/gdown/cli.py:131: FutureWarning: Option `--id` was deprecated in version 4.3.1 and will be removed in 5.0. You don't need to pass it anymore to use a file ID.\n",
            "  category=FutureWarning,\n",
            "Downloading...\n",
            "From: https://drive.google.com/uc?id=1GEgd5cQoJkTm5PRWfixxOKHe3uOlxFqo\n",
            "To: /content/miserables.txt\n",
            "100% 3.17M/3.17M [00:00<00:00, 236MB/s]\n"
          ]
        }
      ]
    },
    {
      "cell_type": "code",
      "source": [
        "filepath_of_text = \"/content/miserables.txt\"\n",
        "number_of_desired_words = 40"
      ],
      "metadata": {
        "id": "kL087d_AOSzZ"
      },
      "execution_count": null,
      "outputs": []
    },
    {
      "cell_type": "markdown",
      "source": [
        "On va maintenant pouvoir lire le texte (vous pouvez le trouver en cinq tomes sur Gutenberg)."
      ],
      "metadata": {
        "id": "kM4xlQF2Pve6"
      }
    },
    {
      "cell_type": "code",
      "source": [
        "full_text = open(filepath_of_text, encoding=\"utf-8\").read()"
      ],
      "metadata": {
        "id": "QpGGAvpFPqiN"
      },
      "execution_count": null,
      "outputs": []
    },
    {
      "cell_type": "markdown",
      "source": [
        "Nous allons maintenant utiliser la fonction que nous avons créée plus haut, et stocker tous les mots dans une liste."
      ],
      "metadata": {
        "id": "gw-gYHfrSSYh"
      }
    },
    {
      "cell_type": "code",
      "source": [
        "all_the_words = split_into_words(full_text)"
      ],
      "metadata": {
        "id": "rtip4PHxPw0-"
      },
      "execution_count": null,
      "outputs": []
    },
    {
      "cell_type": "code",
      "source": [
        "all_the_words[50:60]"
      ],
      "metadata": {
        "colab": {
          "base_uri": "https://localhost:8080/"
        },
        "id": "m8o9b1n6Sce8",
        "outputId": "82937562-b598-4d53-d337-2ff2f2c67cc7"
      },
      "execution_count": null,
      "outputs": [
        {
          "output_type": "execute_result",
          "data": {
            "text/plain": [
              "['même', 'de', 'ce', 'que', 'nous', 'avons', 'à', 'raconter', 'il', 'n']"
            ]
          },
          "metadata": {},
          "execution_count": 11
        }
      ]
    },
    {
      "cell_type": "markdown",
      "source": [
        "#Quelques \"trucs\" utiles quand on manipule des chaînes de caractères\n",
        "Avant de rentrer un peu plus dans le détail des manipulations de textes, nous allons voir quelques lignes de base pour les chaînes de caractères."
      ],
      "metadata": {
        "id": "pjbrvmsIYrcE"
      }
    },
    {
      "cell_type": "code",
      "source": [
        "first_line = full_text[88:155]\n",
        "print(first_line)"
      ],
      "metadata": {
        "colab": {
          "base_uri": "https://localhost:8080/"
        },
        "id": "EvpU8o2sZA4a",
        "outputId": "730e605b-f6f9-48c2-a23e-3c241e48ce26"
      },
      "execution_count": null,
      "outputs": [
        {
          "output_type": "stream",
          "name": "stdout",
          "text": [
            "En 1815, M. Charles-François-Bienvenu Myriel était évêque de Digne.\n"
          ]
        }
      ]
    },
    {
      "cell_type": "markdown",
      "source": [
        "| **String Method** | **Explanation**                                                                                   |\n",
        "|:-------------:|:---------------------------------------------------------------------------------------------------:|\n",
        "| `string.lower()`         | makes the string lowercase                                                                                |\n",
        "| `string.upper()`         | makes the string uppercase  \n",
        "| `string.title()`         | makes the string titlecase \n",
        "| `string.strip()`         | removes lead and trailing white spaces     |\n",
        "| `string.replace('old string', 'new string')`      | replaces `old string` with `new string`          |\n",
        "| `string.split('delim')`          | returns a list of substrings separated by the given delimiter |\n",
        "| `string.join(list)`         | opposite of split(), joins the elements in the given list together using the string                                                                        |\n",
        "| `string.startswith('some string')`       | tests whether string begins with `some string` |                                                       |\n",
        "| `string.endswith('some string')`       |  tests whether string ends with `some string`   |\n",
        "| `string.isspace()`       |  tests whether string is a space |\n",
        "| `string.replace('old string', 'new string')`      | replaces `old string` with `new string`          |\n",
        "\n",
        "                                                            "
      ],
      "metadata": {
        "id": "LfCPzuAEaKji"
      }
    },
    {
      "cell_type": "markdown",
      "source": [
        "Exemple, donc :"
      ],
      "metadata": {
        "id": "GFV1eW01aggH"
      }
    },
    {
      "cell_type": "code",
      "source": [
        "print(first_line.replace(\"était\", \"est\"))\n",
        "print(first_line.lower())\n",
        "print(first_line.upper())\n",
        "print(first_line.title())"
      ],
      "metadata": {
        "colab": {
          "base_uri": "https://localhost:8080/"
        },
        "id": "LrMw2B-Oai9H",
        "outputId": "b9d654ab-94cb-4102-d5b0-2f59c6932254"
      },
      "execution_count": null,
      "outputs": [
        {
          "output_type": "stream",
          "name": "stdout",
          "text": [
            "En 1815, M. Charles-François-Bienvenu Myriel est évêque de Digne.\n",
            "en 1815, m. charles-françois-bienvenu myriel était évêque de digne.\n",
            "EN 1815, M. CHARLES-FRANÇOIS-BIENVENU MYRIEL ÉTAIT ÉVÊQUE DE DIGNE.\n",
            "En 1815, M. Charles-François-Bienvenu Myriel Était Évêque De Digne.\n"
          ]
        }
      ]
    },
    {
      "cell_type": "markdown",
      "source": [
        "Il est aussi possible de diviser le texte avec un point d'ancrage."
      ],
      "metadata": {
        "id": "l6-MC_0wbHQX"
      }
    },
    {
      "cell_type": "markdown",
      "source": [
        "| **String Method** | **Explanation**                                                                                   |\n",
        "|:-------------:|:---------------------------------------------------------------------------------------------------:|\n",
        "| `string.split('delim')`          | returns a list of substrings separated by the given delimiter |                                                       "
      ],
      "metadata": {
        "id": "Okgz2Cp2bW0R"
      }
    },
    {
      "cell_type": "code",
      "source": [
        "first_line.split(\" \")"
      ],
      "metadata": {
        "colab": {
          "base_uri": "https://localhost:8080/"
        },
        "id": "SqO3f58gbZsk",
        "outputId": "1d17489c-8460-4fde-f797-677149a41862"
      },
      "execution_count": null,
      "outputs": [
        {
          "output_type": "execute_result",
          "data": {
            "text/plain": [
              "['En',\n",
              " '1815,',\n",
              " 'M.',\n",
              " 'Charles-François-Bienvenu',\n",
              " 'Myriel',\n",
              " 'était',\n",
              " 'évêque',\n",
              " 'de',\n",
              " 'Digne.']"
            ]
          },
          "metadata": {},
          "execution_count": 42
        }
      ]
    },
    {
      "cell_type": "markdown",
      "source": [
        "##Importer des textes contenus dans des fichiers\n",
        "On ne peut pas récrire en code tout le texte dont on a besoin. Il est souvent stocké dans un fichier. Par ailleurs, selon nos objets, si nous ne traitons pas de l'anglais, nous aurons souvent besoin que le fichier soit lu dans un encodage particulier, l'unicode (souvent écrit \"utf8\").\n",
        "<br>La partie `.read()` correspond au moment où l'ordinateur parcourt le fichier sélectionné."
      ],
      "metadata": {
        "id": "jGUc_uP5b0A2"
      }
    },
    {
      "cell_type": "code",
      "source": [
        "filepath_of_text = \"/content/miserables.txt\"\n",
        "full_text = open(filepath_of_text, encoding=\"utf-8\").read()"
      ],
      "metadata": {
        "id": "TcCGlgcycPte"
      },
      "execution_count": null,
      "outputs": []
    },
    {
      "cell_type": "markdown",
      "source": [
        "Très souvent, en analyse textuelle, certains mots peuvent ne pas nous intéresser (mais pas toujours). Ces mots de faible poids sémantique s'appellent les mots-outils, ou \"stopwords\". Nous allons en créer une liste prise dans un fichier texte.\n",
        "On va utiliser une lib présente dans Jupyter, pour le français, très utilisée : nltk.\n",
        "nltk propose une liste de stopwords pour le français."
      ],
      "metadata": {
        "id": "Wz1eAL4hSxkN"
      }
    },
    {
      "cell_type": "code",
      "source": [
        "import nltk\n",
        "nltk.download('stopwords')\n",
        "from nltk.corpus import stopwords\n",
        "french_stopwords = set(stopwords.words('french'))"
      ],
      "metadata": {
        "colab": {
          "base_uri": "https://localhost:8080/"
        },
        "id": "2N0VIz8rSovn",
        "outputId": "004cb4ec-295a-42f6-cc9f-6af0138e0ebc"
      },
      "execution_count": null,
      "outputs": [
        {
          "output_type": "stream",
          "name": "stdout",
          "text": [
            "[nltk_data] Downloading package stopwords to /root/nltk_data...\n",
            "[nltk_data]   Unzipping corpora/stopwords.zip.\n"
          ]
        }
      ]
    },
    {
      "cell_type": "markdown",
      "source": [
        "Nous allons maintenant créer une liste qui contiendra seulement les mots qui ne sont pas des stopwords."
      ],
      "metadata": {
        "id": "d3EKNcOoUTqL"
      }
    },
    {
      "cell_type": "code",
      "source": [
        "meaningful_words = [word for word in all_the_words if word not in french_stopwords]"
      ],
      "metadata": {
        "id": "pDeoMttaThMo"
      },
      "execution_count": null,
      "outputs": []
    },
    {
      "cell_type": "code",
      "source": [
        "meaningful_words[50:60]"
      ],
      "metadata": {
        "colab": {
          "base_uri": "https://localhost:8080/"
        },
        "id": "4kxQNYk4USjX",
        "outputId": "c0f01f56-e18f-4c2d-ffd5-eb791eba8403"
      },
      "execution_count": null,
      "outputs": [
        {
          "output_type": "execute_result",
          "data": {
            "text/plain": [
              "['vrai',\n",
              " 'faux',\n",
              " 'dit',\n",
              " 'hommes',\n",
              " 'tient',\n",
              " 'souvent',\n",
              " 'autant',\n",
              " 'place',\n",
              " 'vie',\n",
              " 'surtout']"
            ]
          },
          "metadata": {},
          "execution_count": 16
        }
      ]
    },
    {
      "cell_type": "markdown",
      "source": [
        "Nous allons ensuite voir combien de termes apparaissent et les classer en fonction."
      ],
      "metadata": {
        "id": "AWhWRG-sU_Qh"
      }
    },
    {
      "cell_type": "code",
      "source": [
        "meaningful_words_tally = Counter(meaningful_words)"
      ],
      "metadata": {
        "id": "XUC-HaP3Ue4P"
      },
      "execution_count": null,
      "outputs": []
    },
    {
      "cell_type": "markdown",
      "source": [
        "Nous allons ensuite en afficher le nombre que nous avons défini précédemment avec la variable \"number_of_desired_words\"."
      ],
      "metadata": {
        "id": "xmGzxGLDVGgD"
      }
    },
    {
      "cell_type": "code",
      "source": [
        "most_frequent_meaningful_words = meaningful_words_tally.most_common(number_of_desired_words)"
      ],
      "metadata": {
        "id": "kC3RQy3JUnd2"
      },
      "execution_count": null,
      "outputs": []
    },
    {
      "cell_type": "code",
      "source": [
        "most_frequent_meaningful_words"
      ],
      "metadata": {
        "colab": {
          "base_uri": "https://localhost:8080/"
        },
        "id": "nXicGIplUrMp",
        "outputId": "5f6b5396-0298-44a8-9846-feb023742ddc"
      },
      "execution_count": null,
      "outputs": [
        {
          "output_type": "execute_result",
          "data": {
            "text/plain": [
              "[('plus', 2475),\n",
              " ('a', 2461),\n",
              " ('cette', 2412),\n",
              " ('comme', 2199),\n",
              " ('tout', 2126),\n",
              " ('dit', 1732),\n",
              " ('là', 1513),\n",
              " ('homme', 1490),\n",
              " ('deux', 1480),\n",
              " ('où', 1400),\n",
              " ('marius', 1354),\n",
              " ('jean', 1233),\n",
              " ('être', 1184),\n",
              " ('cela', 1166),\n",
              " ('si', 1147),\n",
              " ('fait', 1138),\n",
              " ('valjean', 1113),\n",
              " ('bien', 1104),\n",
              " ('cosette', 1014),\n",
              " ('sans', 993),\n",
              " ('rue', 940),\n",
              " ('sous', 828),\n",
              " ('autre', 816),\n",
              " ('rien', 771),\n",
              " ('tous', 762),\n",
              " ('monsieur', 738),\n",
              " ('peu', 734),\n",
              " ('faire', 727),\n",
              " ('père', 708),\n",
              " ('dire', 706),\n",
              " ('cet', 682),\n",
              " ('quand', 673),\n",
              " ('puis', 661),\n",
              " ('chose', 659),\n",
              " ('toute', 648),\n",
              " ('encore', 644),\n",
              " ('quelque', 631),\n",
              " ('point', 623),\n",
              " ('temps', 606),\n",
              " ('thénardier', 590)]"
            ]
          },
          "metadata": {},
          "execution_count": 21
        }
      ]
    },
    {
      "cell_type": "code",
      "source": [
        ""
      ],
      "metadata": {
        "id": "KGQQXnOzVWhA"
      },
      "execution_count": null,
      "outputs": []
    }
  ]
}